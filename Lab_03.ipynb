{
 "cells": [
  {
   "cell_type": "markdown",
   "metadata": {
    "cell_id": "3db34a80-4460-4b2c-b6d3-499ae7cc2a7d",
    "deepnote_cell_height": 1210.984375,
    "deepnote_cell_type": "markdown",
    "deepnote_to_be_reexecuted": false,
    "execution_start": 1648998935447,
    "owner_user_id": "658b2a16-1456-4994-b7e8-11257a829f64",
    "source_hash": "49fd145c",
    "tags": []
   },
   "source": [
    "# Lab 03 - Spectral Indices & Transformations\n",
    "\n",
    "## Overview\n",
    "\n",
    "In this lab, we will work with the spectral characteristics in our data to visualize and extract insights that go beyond basic visual interpretation. We will work with the different spectral bands offered by Landsat 8 to find unique patterns that can help us solve problems and conduct analysis. By the end of this lab, you should be able to understand how to build and visualize existing indices, as well as construct your own, identify how different indices can help your use case, and understand the mechanism behind how they work. \n",
    "\n",
    "## Spectral Indices\n",
    "\n",
    "Spectroscopy is the study of how radiation is absorbed, reflected and emitted by different materials. While this discipline has its origins in chemistry and physics, we can utilize the same techniques to identify different land cover types from satellite data.  In the chart below, land cover types have unique spectral characteristics. Snow has a major peak at lower wavelengths and is near zero above 1.5 micrometer, whereas soil has very low reflectance at lower levels of wavelength but relatively strong and steady reflectance after ~0.75 micrometers. Spectral indices are built to leverage these unique characteristics and isolate specific types of land cover. \n",
    "\n",
    "Land covers are separable at different wavelengths. Vegetation curves (green) have high reflectance in the NIR range, where radiant energy is scattered by cell walls ([Bowker, 1985](http://ntrs.nasa.gov/archive/nasa/casi.ntrs.nasa.gov/19850022138.pdf)) and low reflectance in the red range, where radiant energy is [absorbed by chlorophyll](https://en.wikipedia.org/wiki/Chlorophyll#/media/File:Chlorophyll_ab_spectra-en.svg). We can leverage this information to build indices that help us differentiate vegetation from urban areas. In the next few sections, we will cover several of the most important indices in use. \n",
    "\n",
    "![Land Cover Reflectance](https://github.com/ghidora77/03_GEE_Labs_DSPG/blob/main/im/im_03_01.png?raw=true)"
   ]
  },
  {
   "cell_type": "markdown",
   "metadata": {
    "cell_id": "00001-565d752f-c570-48ae-8e4d-9e8f2b053c2c",
    "deepnote_cell_height": 354,
    "deepnote_cell_type": "markdown"
   },
   "source": [
    "## Important Indices \n",
    "\n",
    "#### Normalized Difference Vegetation Index (NDVI)\n",
    "\n",
    "The Normalized Difference Vegetation Index ([NDVI](https://developers.google.com/earth-engine/apidocs/ee-image-normalizeddifference)) has a [long history](https://en.wikipedia.org/wiki/Normalized_Difference_Vegetation_Index) in remote sensing, and is one of the most widely used measures. The typical formulation is:\n",
    "\n",
    "$$\\text{NDVI} = (\\text{NIR} - \\text{red}) / (\\text{NIR} + \\text{red})$$\n",
    "\n",
    "Where *NIR* refers to the near infrared band and *red* refers to the red peak in the visible spectrum.\n",
    "\n",
    "Because NDVI is a popular and well-known index, we can use the built-in functionality within Earth Engine `normalizedDifference()`to calculate NDVI. You can follow the steps below to build your own indices. \n",
    "\n",
    "First, build a baseline true color image around our region of interest, Blacksburg, VA. We will work with the Landsat 8 Collection 1 Tier 1 TOA Reflectance data from 2015, sort by cloud cover and extract the first image."
   ]
  },
  {
   "cell_type": "code",
   "execution_count": 1,
   "metadata": {
    "cell_id": "00002-66b9b926-6f04-438c-8567-2e25df0419ea",
    "deepnote_cell_height": 189,
    "deepnote_cell_type": "code",
    "deepnote_to_be_reexecuted": false,
    "execution_millis": 5465,
    "execution_start": 1648999061840,
    "source_hash": "e0a088c7"
   },
   "outputs": [],
   "source": [
    "#!pip install geemap\n",
    "\n",
    "import ee, geemap, pprint, folium\n",
    "#ee.Authenticate()\n",
    "\n",
    "def build_map(lat, lon, zoom, vizParams, image, name):\n",
    "    map = geemap.Map(center = [lat, lon], zoom = zoom)\n",
    "    map.addLayer(image, vizParams, name)\n",
    "    return map\n",
    "\n",
    "def add_ee_layer(self, ee_image_object, vis_params, name):\n",
    "  map_id_dict = ee.Image(ee_image_object).getMapId(vis_params)\n",
    "  folium.raster_layers.TileLayer(\n",
    "      tiles=map_id_dict['tile_fetcher'].url_format,\n",
    "      attr='Map Data &copy; <a href=\"https://earthengine.google.com/\">Google Earth Engine</a>',\n",
    "      name=name,\n",
    "      overlay=True,\n",
    "      control=True\n",
    "  ).add_to(self)\n",
    "\n",
    "# Initialize the Earth Engine module.\n",
    "ee.Initialize()"
   ]
  },
  {
   "cell_type": "code",
   "execution_count": 2,
   "metadata": {
    "cell_id": "00003-b86653f0-d798-4356-b4b0-b8b60fda1625",
    "deepnote_cell_height": 594,
    "deepnote_cell_type": "code",
    "deepnote_to_be_reexecuted": false,
    "execution_millis": 1736,
    "execution_start": 1648999067308,
    "source_hash": "e2c40ca2"
   },
   "outputs": [
    {
     "data": {
      "application/vnd.jupyter.widget-view+json": {
       "model_id": "db13fbe3863d4a7ebe5d6e3e116b58f7",
       "version_major": 2,
       "version_minor": 0
      },
      "text/plain": [
       "Map(center=[37.22, -80.42], controls=(WidgetControl(options=['position', 'transparent_bg'], widget=HBox(childr…"
      ]
     },
     "metadata": {},
     "output_type": "display_data"
    }
   ],
   "source": [
    "lat = 37.22; lon = -80.42; \n",
    "zoom = 11\n",
    "image_collection_name = \"LANDSAT/LC08/C01/T1_TOA\"\n",
    "date_start = '2015-06-01'\n",
    "date_end = '2015-09-01'\n",
    "name = 'Landsat 8 TOA spectrum'\n",
    "point = ee.Geometry.Point([lon, lat])\n",
    "\n",
    "image = (\n",
    "    ee.ImageCollection(image_collection_name)\n",
    "         .filterBounds(point)\n",
    "         .filterDate(date_start, date_end)\n",
    "         .sort('CLOUD_COVER')\n",
    "         .first()\n",
    ")\n",
    "\n",
    "bands = ['B4', 'B3', 'B2']\n",
    "\n",
    "vizParams = {\n",
    "    'bands': bands, \n",
    "    'min': 0, \n",
    "    'max': 0.3\n",
    "}\n",
    "\n",
    "# Define a map centered on southern Maine.\n",
    "map = build_map(lat, lon, zoom, vizParams, image, name)\n",
    "map.add_ee_layer(image, vizParams)\n",
    "map"
   ]
  },
  {
   "cell_type": "markdown",
   "metadata": {
    "cell_id": "00004-0537d747-988a-4565-86ac-abb134bdd040",
    "deepnote_cell_height": 74,
    "deepnote_cell_type": "markdown"
   },
   "source": [
    "Now that we have the true color baseline image, we can build the NDVI index and visualize it. For visualization, we are creating a custom palette, where low values trend towards white and high values trend towards green. "
   ]
  },
  {
   "cell_type": "code",
   "execution_count": 3,
   "metadata": {
    "cell_id": "00005-d950bf79-666a-478b-8cbf-c80d09cd6eea",
    "deepnote_cell_height": 288,
    "deepnote_cell_type": "code",
    "deepnote_to_be_reexecuted": false,
    "execution_millis": 1907,
    "execution_start": 1648999069124,
    "source_hash": "9d7613ba"
   },
   "outputs": [
    {
     "data": {
      "application/vnd.jupyter.widget-view+json": {
       "model_id": "9b7d4368fc704110838744a5ab66f843",
       "version_major": 2,
       "version_minor": 0
      },
      "text/plain": [
       "Map(center=[37.22, -80.42], controls=(WidgetControl(options=['position', 'transparent_bg'], widget=HBox(childr…"
      ]
     },
     "metadata": {},
     "output_type": "display_data"
    }
   ],
   "source": [
    "ndvi = image.normalizedDifference(['B5', 'B4']); \n",
    "vegPalette = ['white', 'green']; \n",
    "vizParams = {\n",
    "    'min': -1, \n",
    "    'max': 1,\n",
    "    'palette': vegPalette\n",
    "}\n",
    "\n",
    "map1 = build_map(lat, lon, zoom, vizParams, ndvi, name)\n",
    "map1"
   ]
  },
  {
   "cell_type": "markdown",
   "metadata": {
    "cell_id": "00007-53320485-348a-4c7d-80c6-bd673098d013",
    "deepnote_cell_height": 204,
    "deepnote_cell_type": "markdown"
   },
   "source": [
    "#### Enhanced Vegetation Index (EVI) \n",
    "\n",
    "The Enhanced Vegetation Index (EVI) is designed to minimize saturation and background effects in NDVI ([Huete, 2002](http://www.sciencedirect.com/science/article/pii/S0034425702000962)). \n",
    "\n",
    "$$\\text{EVI} = 2.5 * (\\text{NIR} - \\text{red}) / (\\text{NIR} + 6 * \\text{red} - 7.5 * \\text{blue} + 1)$$\n",
    "\n",
    "Since it is not a normalized difference index, we need to build a unique [expression](https://developers.google.com/earth-engine/image_math#expressions) and then identify all of the different segments. Programmatically, bands are specifically referenced with the help of [an object](https://developer.mozilla.org/en-US/docs/Web/JavaScript/Guide/Grammar_and_Types#Object_literals) that is passed as the second argument to `image.expression()` (everything within the curly brackets). "
   ]
  },
  {
   "cell_type": "code",
   "execution_count": 4,
   "metadata": {
    "cell_id": "00008-10c3fffe-8dd1-431c-ac09-2dcd55293a0e",
    "deepnote_cell_height": 299,
    "deepnote_cell_type": "code",
    "deepnote_to_be_reexecuted": false,
    "execution_millis": 1572,
    "execution_start": 1648999071039,
    "source_hash": "95736512"
   },
   "outputs": [
    {
     "data": {
      "application/vnd.jupyter.widget-view+json": {
       "model_id": "f48c830a6437447881a02aa33ace5ef6",
       "version_major": 2,
       "version_minor": 0
      },
      "text/plain": [
       "Map(center=[37.22, -80.42], controls=(WidgetControl(options=['position', 'transparent_bg'], widget=HBox(childr…"
      ]
     },
     "metadata": {},
     "output_type": "display_data"
    }
   ],
   "source": [
    "# Build the expression\n",
    "exp = '2.5  * ((NIR - RED) / (NIR + 6 * RED - 7.5 * BLUE + 1))'\n",
    "evi = image.expression( exp, \n",
    "                            {\n",
    "                             'NIR': image.select('B5'),\n",
    "                             'RED': image.select('B4'),\n",
    "                             'BLUE': image.select('B2')\n",
    "                            }) \n",
    "\n",
    "map2 = build_map(lat, lon, zoom, vizParams, evi, name)\n",
    "map2"
   ]
  },
  {
   "cell_type": "markdown",
   "metadata": {
    "cell_id": "00010-a49027c6-1326-434f-9b57-caf61763aef6",
    "deepnote_cell_height": 190,
    "deepnote_cell_type": "markdown"
   },
   "source": [
    "#### Normalized Difference Water Index (NDWI)\n",
    "\n",
    "The Normalized Difference Water Index (NDWI) was developed by [Gao (1996)](http://www.sciencedirect.com/science/article/pii/S0034425796000673) as an index to identify the water content within vegetation. SWIR stands for short-wave infrared, which is the Landsat band 6.  This is not an exact implementation of NDWI, according to the [OLI spectral response](http://landsat.gsfc.nasa.gov/?p=5779), since OLI does not have a band in the right position (1.26 𝛍m) - but for our purposes, this is an approximation that does an acceptable job of identifying water content. \n",
    "\n",
    "$$\\text{NDWI} = (\\text{NIR} - \\text{SWIR})) / (\\text{NIR} + \\text{SWIR})$$"
   ]
  },
  {
   "cell_type": "code",
   "execution_count": 5,
   "metadata": {
    "cell_id": "00011-c372264c-afed-4f68-8bdc-cf0246b0a524",
    "deepnote_cell_height": 299,
    "deepnote_cell_type": "code",
    "deepnote_to_be_reexecuted": false,
    "execution_millis": 1670,
    "execution_start": 1648999072610,
    "source_hash": "5f71a306"
   },
   "outputs": [
    {
     "data": {
      "application/vnd.jupyter.widget-view+json": {
       "model_id": "e8ce7f6b083f4aa7a4c9980a3631604f",
       "version_major": 2,
       "version_minor": 0
      },
      "text/plain": [
       "Map(center=[37.22, -80.42], controls=(WidgetControl(options=['position', 'transparent_bg'], widget=HBox(childr…"
      ]
     },
     "metadata": {},
     "output_type": "display_data"
    }
   ],
   "source": [
    "ndwi = image.normalizedDifference(['B5', 'B6']);  \n",
    "waterPalette = ['white', 'blue'];   \n",
    "\n",
    "vizParams = {\n",
    "    'min': -1, \n",
    "    'max': 1,\n",
    "    'palette': waterPalette\n",
    "}\n",
    "\n",
    "map3 = build_map(lat, lon, zoom, vizParams, ndwi, name)\n",
    "map3"
   ]
  },
  {
   "cell_type": "markdown",
   "metadata": {
    "cell_id": "00012-d57423c0-f6ea-454f-9554-8e3d7dc2a968",
    "deepnote_cell_height": 204,
    "deepnote_cell_type": "markdown"
   },
   "source": [
    "#### Normalized Difference Water *Body* Index (NDWBI)\n",
    "\n",
    "The fact that two different NDWI indices were independently invented in 1996 complicates things. While the NDWI looks at water content within vegetation, the NDWBI is built to identify bodies of water (rivers, lakes, oceans). To distinguish, define the Normalized Difference Water *Body* Index (NDWBI) as the index described in [McFeeters (1996)](http://www.tandfonline.com/doi/abs/10.1080/01431169608948714#.VkThFHyrTlM):\n",
    "\n",
    "$$\\text{NDWBI} = (\\text{green} - \\text{NIR}) / (\\text{green} + \\text{NIR})$$\n",
    "\n",
    "As previously, implement NDWBI with `normalizedDifference()` and display the result."
   ]
  },
  {
   "cell_type": "code",
   "execution_count": 6,
   "metadata": {
    "cell_id": "00013-5487dc86-f49a-4376-b586-f4224f05e198",
    "deepnote_cell_height": 263,
    "deepnote_cell_type": "code",
    "deepnote_to_be_reexecuted": false,
    "execution_millis": 2008,
    "execution_start": 1648999074280,
    "source_hash": "3bb2dc04"
   },
   "outputs": [
    {
     "data": {
      "application/vnd.jupyter.widget-view+json": {
       "model_id": "aab03c9ea0f441c084e07d937ed039c0",
       "version_major": 2,
       "version_minor": 0
      },
      "text/plain": [
       "Map(center=[37.22, -80.42], controls=(WidgetControl(options=['position', 'transparent_bg'], widget=HBox(childr…"
      ]
     },
     "metadata": {},
     "output_type": "display_data"
    }
   ],
   "source": [
    "ndwbi = image.normalizedDifference(['B3', 'B5']);  \n",
    "vizParams = {\n",
    "    'min': -1, \n",
    "    'max': 0.5,\n",
    "    'palette': waterPalette\n",
    "}\n",
    "\n",
    "map4 = build_map(lat, lon, zoom, vizParams, ndwbi, name)\n",
    "map4"
   ]
  },
  {
   "cell_type": "markdown",
   "metadata": {
    "cell_id": "00014-58f4c5d4-c004-43e4-90b4-adc559d4a4e6",
    "deepnote_cell_height": 298,
    "deepnote_cell_type": "markdown"
   },
   "source": [
    "You can combine the code blocks to compare the actual values at different pixel locations. Use inspector to test out different land areas.\n",
    "\n",
    "\n",
    "#### Normalized Difference Bare Index (NDBI)\n",
    "\n",
    "The Normalized Difference Bare Index (NDBI) was developed by [Zha, 2003)](http://www.tandfonline.com/doi/abs/10.1080/01431160304987) to aid in the differentiation of urban areas by using a combination of the shortwave and near infrared. \n",
    "\n",
    "$$\\text{NDBI} = (\\text{SWIR} - \\text{NIR}) / (\\text{SWIR} + \\text{NIR})$$\n",
    "\n",
    "Note that NDBI is the negative of NDWI. Compute NDBI and display with a suitable palette. (Check [this reference](https://developer.mozilla.org/en-US/docs/Web/JavaScript/Reference/Global_Objects/Array) to demystify the palette reversal)"
   ]
  },
  {
   "cell_type": "code",
   "execution_count": 7,
   "metadata": {
    "cell_id": "00015-4405fb41-c068-41ee-9b67-33ab2b484f21",
    "deepnote_cell_height": 317,
    "deepnote_cell_type": "code",
    "deepnote_to_be_reexecuted": false,
    "execution_millis": 1782,
    "execution_start": 1648999076292,
    "source_hash": "16e36938"
   },
   "outputs": [
    {
     "data": {
      "application/vnd.jupyter.widget-view+json": {
       "model_id": "3ccd1c56a42a4235a636847f01e62a09",
       "version_major": 2,
       "version_minor": 0
      },
      "text/plain": [
       "Map(center=[37.22, -80.42], controls=(WidgetControl(options=['position', 'transparent_bg'], widget=HBox(childr…"
      ]
     },
     "metadata": {},
     "output_type": "display_data"
    }
   ],
   "source": [
    "ndbi = image.normalizedDifference(['B6', 'B5']); \n",
    "# Reverse the water palette\n",
    "barePalette =  waterPalette.copy()\n",
    "barePalette.reverse() \n",
    "vizParams = {\n",
    "    'min': -1, \n",
    "    'max': 0.5,\n",
    "    'palette': barePalette\n",
    "}\n",
    "  \n",
    "map4 = build_map(lat, lon, zoom, vizParams, ndbi, name)\n",
    "map4"
   ]
  },
  {
   "cell_type": "markdown",
   "metadata": {
    "cell_id": "00016-cca2fe91-efe7-47db-90f8-240ec7a4bad5",
    "deepnote_cell_height": 154,
    "deepnote_cell_type": "markdown"
   },
   "source": [
    "#### Burned Area Index (BAI) \n",
    "\n",
    "The Burned Area Index (BAI) was developed by [Chuvieco et al. (2002)](http://www.tandfonline.com/doi/abs/10.1080/01431160210153129) to assist in the delineation of burn scars and assessment of burn severity. It is based on maximizing the spectral characteristics of charcoal reflectance. To examine burn indices, load an image from 2013 showing the [Rim fire](https://en.wikipedia.org/wiki/Rim_Fire) in the Sierra Nevadas. We'll start by creating a true image of the area to see how well this index highlights the presence of wildfire."
   ]
  },
  {
   "cell_type": "code",
   "execution_count": 8,
   "metadata": {
    "cell_id": "00017-068ecc89-0ab5-4dc6-81df-eaa72449150b",
    "deepnote_cell_height": 605,
    "deepnote_cell_type": "code",
    "deepnote_to_be_reexecuted": false,
    "execution_millis": 2017,
    "execution_start": 1648999078132,
    "source_hash": "6d972f7a"
   },
   "outputs": [
    {
     "data": {
      "application/vnd.jupyter.widget-view+json": {
       "model_id": "b55295a66c1c446099cea32125882973",
       "version_major": 2,
       "version_minor": 0
      },
      "text/plain": [
       "Map(center=[37.85, -120.083], controls=(WidgetControl(options=['position', 'transparent_bg'], widget=HBox(chil…"
      ]
     },
     "metadata": {},
     "output_type": "display_data"
    }
   ],
   "source": [
    "lat = 37.850; lon = -120.083; \n",
    "zoom = 11\n",
    "image_collection_name = \"LANDSAT/LC08/C01/T1_TOA\"\n",
    "date_start = '2013-08-17'\n",
    "date_end = '2013-09-27'\n",
    "name = 'Landsat  8 TOA spectrum in Blacksburg, VA'\n",
    "point = ee.Geometry.Point([lon, lat])\n",
    "\n",
    "image = (\n",
    "    ee.ImageCollection(image_collection_name)\n",
    "         .filterBounds(point)\n",
    "         .filterDate(date_start, date_end)\n",
    "         .sort('CLOUD_COVER')\n",
    "         .first()\n",
    ")\n",
    "\n",
    "bands = ['B4', 'B3', 'B2']\n",
    "\n",
    "vizParams = {\n",
    "    'bands': bands, \n",
    "    'min': 0, \n",
    "    'max': 0.3\n",
    "}\n",
    "\n",
    "# Define a map centered on southern Maine.\n",
    "map5 = build_map(lat, lon, zoom, vizParams, image, name)\n",
    "map5.add_ee_layer(image, vizParams)\n",
    "map5"
   ]
  },
  {
   "cell_type": "markdown",
   "metadata": {
    "cell_id": "00018-8f65949d-7664-4b84-b6dd-bc3aa6cee86f",
    "deepnote_cell_height": 52,
    "deepnote_cell_type": "markdown"
   },
   "source": [
    "Closely examine the true color display of this image. Can you spot where the fire occurred? If difficult, let's look at the burn index."
   ]
  },
  {
   "cell_type": "code",
   "execution_count": 9,
   "metadata": {
    "cell_id": "00019-215d048e-f808-4bf1-b47c-c002026d98fe",
    "deepnote_cell_height": 461,
    "deepnote_cell_type": "code",
    "deepnote_to_be_reexecuted": false,
    "execution_millis": 1579,
    "execution_start": 1648999080199,
    "source_hash": "582c6c18"
   },
   "outputs": [
    {
     "data": {
      "application/vnd.jupyter.widget-view+json": {
       "model_id": "7d9cbbb3508b4d71904da432d1c1fcd7",
       "version_major": 2,
       "version_minor": 0
      },
      "text/plain": [
       "Map(center=[37.85, -120.083], controls=(WidgetControl(options=['position', 'transparent_bg'], widget=HBox(chil…"
      ]
     },
     "metadata": {},
     "output_type": "display_data"
    }
   ],
   "source": [
    "# Build Burn Index expression\n",
    "exp = '1.0  / ((0.1 - RED)**2 + (0.06 - NIR)**2)';\n",
    "bai = image.expression(exp, \n",
    "                       {\n",
    "                            'NIR': image.select('B5'), \n",
    "                            'RED': image.select('B4') \n",
    "                       }\n",
    "                      );\n",
    "                                \n",
    "burnPalette = ['green', 'blue', 'yellow', 'red'];\n",
    "\n",
    "vizParams = {\n",
    "    'min': 0, \n",
    "    'max': 400,\n",
    "    'palette': burnPalette\n",
    "}\n",
    "\n",
    "# Define a map centered on Northern California\n",
    "map6 = build_map(lat, lon, zoom, vizParams, bai, name)\n",
    "map6"
   ]
  },
  {
   "cell_type": "markdown",
   "metadata": {
    "cell_id": "00020-6f433684-c92e-4f2e-bc0f-8fd54e979e8b",
    "deepnote_cell_height": 248,
    "deepnote_cell_type": "markdown"
   },
   "source": [
    "The charcoal burn area is now very evident. Being that Landsat has historical data and a wide array of sensors, this can be a powerful way to understand natural phenomena. \n",
    "\n",
    "\n",
    "\n",
    "#### Normalized Burn Ratio Thermal (NBRT)\n",
    "\n",
    "The Normalized Burn Ratio Thermal (NBRT) was developed based on the idea that burned land has low NIR reflectance (less vegetation), high SWIR reflectance (think ash), and high brightness temperature ([Holden et al. 2005](http://www.tandfonline.com/doi/abs/10.1080/01431160500239008)). Unlike the other indices, a lower NBRT means a higher likelihood of recent burn (for visualization, reverse the scale). This index can be used to diagnose the severity of wildfires (see [van Wagtendonk et al. 2004](http://www.sciencedirect.com/science/article/pii/S003442570400152X))."
   ]
  },
  {
   "cell_type": "code",
   "execution_count": 10,
   "metadata": {
    "cell_id": "00021-24994c2c-1867-4daf-bc9b-54cabe96c2b6",
    "deepnote_cell_height": 407,
    "deepnote_cell_type": "code",
    "deepnote_to_be_reexecuted": false,
    "execution_millis": 1641,
    "execution_start": 1648999081779,
    "source_hash": "7530f2b3"
   },
   "outputs": [
    {
     "data": {
      "application/vnd.jupyter.widget-view+json": {
       "model_id": "92b1b560f90345149bb7c5c5ffab72db",
       "version_major": 2,
       "version_minor": 0
      },
      "text/plain": [
       "Map(center=[37.85, -120.083], controls=(WidgetControl(options=['position', 'transparent_bg'], widget=HBox(chil…"
      ]
     },
     "metadata": {},
     "output_type": "display_data"
    }
   ],
   "source": [
    "   \n",
    "# Build Burn Index expression\n",
    "exp = '(NIR - 0.0001 * SWIR *  Temp) / (NIR + 0.0001 * SWIR * Temp)'\n",
    "nbrt = image.expression(exp, {\n",
    "        'NIR': image.select('B5'),   \n",
    "        'SWIR': image.select('B7'),   \n",
    "        'Temp': image.select('B11')  \n",
    "        });  \n",
    "vizParams = {\n",
    "    'min': 1, \n",
    "    'max': 0.9,\n",
    "    'palette': burnPalette\n",
    "}\n",
    "\n",
    "map7 = build_map(lat, lon, zoom, vizParams, nbrt, name)\n",
    "map7\n",
    "#Map.addLayer(nbrt, {min: 1, max: 0.9,  palette: burnPalette}, 'NBRT'); "
   ]
  },
  {
   "cell_type": "markdown",
   "metadata": {
    "cell_id": "00022-41c3ee5b-1405-40f6-960b-53a3c5bc3f0c",
    "deepnote_cell_height": 226,
    "deepnote_cell_type": "markdown"
   },
   "source": [
    "#### Normalized Difference Snow Index (NDSI)\n",
    "\n",
    "The Normalized Difference Snow Index (NDSI) was designed to estimate the amount of a pixel covered in snow ([Riggs et al. 1994](http://ieeexplore.ieee.org/xpls/abs_all.jsp?arnumber=399618&tag=1)).\n",
    "\n",
    "$$\\text{NDSI} = (\\text{green} - \\text{SWIR}) /(\\text{green} + \\text{SWIR})$$\n",
    "\n",
    "Let's look at Aspen, Colorado and use Landsat 8 data in the winter. You can use the layer manager to turn on and off the snow layer to compare results with the true color image. How does it compare? Reference the spectral reflectance chart at the beginning of the lab and look at the profile for snow. You will see that it has a distinct profile. In the image below, it does a very good job of matching the true color image - valleys and roads that do not have snow on them are accurately shown. "
   ]
  },
  {
   "cell_type": "code",
   "execution_count": 11,
   "metadata": {
    "cell_id": "00023-f40989c5-f80f-4fd2-8542-3c7dda93dad0",
    "deepnote_cell_height": 767,
    "deepnote_cell_type": "code",
    "deepnote_to_be_reexecuted": false,
    "execution_millis": 2154,
    "execution_start": 1648999083411,
    "source_hash": "c75fbac8"
   },
   "outputs": [
    {
     "data": {
      "application/vnd.jupyter.widget-view+json": {
       "model_id": "4d230e7fb6504fc5889d8cee3f8f6b29",
       "version_major": 2,
       "version_minor": 0
      },
      "text/plain": [
       "Map(center=[39.19, -106.81], controls=(WidgetControl(options=['position', 'transparent_bg'], widget=HBox(child…"
      ]
     },
     "metadata": {},
     "output_type": "display_data"
    }
   ],
   "source": [
    "lat = 39.19; lon = -106.81; \n",
    "zoom = 11\n",
    "image_collection_name = \"LANDSAT/LC08/C01/T1_TOA\"\n",
    "date_start = '2013-11-17'\n",
    "date_end = '2014-03-27'\n",
    "name = 'Snow'\n",
    "point = ee.Geometry.Point([lon, lat])\n",
    "\n",
    "image = (\n",
    "    ee.ImageCollection(image_collection_name)\n",
    "         .filterBounds(point)\n",
    "         .filterDate(date_start, date_end)\n",
    "         .sort('CLOUD_COVER')\n",
    "         .first()\n",
    ")\n",
    "\n",
    "bands = ['B4', 'B3', 'B2']\n",
    "\n",
    "vizParams = {\n",
    "    'bands': bands, \n",
    "    'min': 0, \n",
    "    'max': 0.3\n",
    "}\n",
    "          \n",
    "ndsi = image.normalizedDifference(['B3', 'B6']);      \n",
    "snowPalette = ['red', 'green', 'blue', 'white'];   \n",
    "\n",
    "vizParams2 = {\n",
    "    'min': -0.5, \n",
    "    'max': 0.7,\n",
    "    'palette': snowPalette\n",
    "}\n",
    "\n",
    "# Define a map centered on southern Maine.\n",
    "map8 = build_map(lat, lon, zoom, vizParams, image, name)\n",
    "map8.add_ee_layer(ndsi, vizParams2)\n",
    "map8"
   ]
  },
  {
   "cell_type": "markdown",
   "metadata": {
    "cell_id": "00024-993ce25d-9559-478b-baad-29626d96cac5",
    "deepnote_cell_height": 963,
    "deepnote_cell_type": "markdown"
   },
   "source": [
    "## Transformations\n",
    "\n",
    "We've gone over indices to highlight unique characteristics in our imagery by utilizing the bands outside of the visible spectrum. \n",
    "\n",
    "Linear transforms are linear combinations of input pixel values. These can result from a variety of different strategies, but a common theme is that pixels are treated as arrays of band values, and we can use these arrays to create weighted values for specific purposes.\n",
    "\n",
    "#### Tasseled cap (TC)\n",
    "\n",
    "Based on observations of agricultural land covers in the NIR-red spectral space, [Kauth and Thomas (1976)](http://citeseerx.ist.psu.edu/viewdoc/download?doi=10.1.1.461.6381&rep=rep1&type=pdf) devised a [rotational transform](https://en.wikipedia.org/wiki/Change_of_basis) of the form \n",
    "\n",
    "$$p_1 = R^T p_0$$\n",
    "\n",
    "where \n",
    "\n",
    "$$p_0$$ is the original pixel vector (a stack of the *p* band values as an [Array](https://developers.google.com/earth-engine/arrays_intro)) \n",
    "\n",
    "**$$p_1$$** is the rotated pixel\n",
    "\n",
    "**R** is an [orthonormal basis](https://en.wikipedia.org/wiki/Orthonormal_basis) of the new space (therefore is $$R^T$$ its inverse). Kauth and Thomas found **R** by defining the first axis of their transformed space to be parallel to the soil line in the following chart, then used the [Gram-Schmidt process](https://en.wikipedia.org/wiki/Gram–Schmidt_process) to find the other basis vectors.\n",
    "\n",
    "![Tassled Cap](https://github.com/ghidora77/03_GEE_Labs_DSPG/blob/main/im/im_03_07.png?raw=true)\n",
    "\n",
    "Assuming that **R** is available, one way to implement this rotation in Earth Engine is with arrays. Specifically, make an array of TC coefficients. Since these coefficients are for the TM sensor, get a less cloudy Landsat 5 scene. To do the matrix multiplication, first convert the input image from a multi-band image to an array image in which each pixel position stores an array. Do the matrix multiplication, then convert back to a multi-band image."
   ]
  },
  {
   "cell_type": "code",
   "execution_count": 24,
   "metadata": {
    "cell_id": "00025-52efc772-9f4b-43fe-9ee2-a71671e798c3",
    "deepnote_cell_height": 983,
    "deepnote_cell_type": "code",
    "deepnote_to_be_reexecuted": false,
    "execution_millis": 1636,
    "execution_start": 1648999085565,
    "source_hash": "d6c9b492"
   },
   "outputs": [
    {
     "data": {
      "application/vnd.jupyter.widget-view+json": {
       "model_id": "874e4757235e4c26a2b9d7a580df9191",
       "version_major": 2,
       "version_minor": 0
      },
      "text/plain": [
       "Map(center=[39.19, -106.81], controls=(WidgetControl(options=['position', 'transparent_bg'], widget=HBox(child…"
      ]
     },
     "metadata": {},
     "output_type": "display_data"
    }
   ],
   "source": [
    "lat = 39.19; lon = -106.81; \n",
    "zoom = 11\n",
    "image_collection_name = \"LANDSAT/LT05/C01/T1_TOA\"\n",
    "date_start = '2008-06-01'\n",
    "date_end = '2008-12-01'\n",
    "name = 'Snow'\n",
    "point = ee.Geometry.Point([lon, lat])\n",
    "\n",
    "image = (\n",
    "    ee.ImageCollection(image_collection_name)\n",
    "         .filterBounds(point)\n",
    "         .filterDate(date_start, date_end)\n",
    "         .sort('CLOUD_COVER')\n",
    "         .first()\n",
    ")\n",
    "coefficients = ee.Array([    \n",
    "  [0.3037, 0.2793, 0.4743, 0.5585, 0.5082, 0.1863],    \n",
    "  [-0.2848, -0.2435, -0.5436, 0.7243, 0.0840, -0.1800],\n",
    "  [0.1509, 0.1973, 0.3279, 0.3406, -0.7112, -0.4572],\n",
    "  [-0.8242, 0.0849, 0.4392, -0.0580, 0.2012, -0.2768],\n",
    "  [-0.3280, 0.0549, 0.1075, 0.1855, -0.4357, 0.8085],\n",
    "  [0.1084, -0.9022, 0.4120, 0.0573, -0.0251, 0.0238]\n",
    "]);  \n",
    "\n",
    "bands = ['B1', 'B2', 'B3', 'B4', 'B5', 'B7']\n",
    "\n",
    "# Make an Array Image,  with a 1-D Array per pixel.\n",
    "\n",
    "arrayImage1D =  image.select(bands).toArray();\n",
    "# Make an Array Image  with a 2-D Array per pixel, 6x1.\n",
    "arrayImage2D = arrayImage1D.toArray(1);  \n",
    "componentsImage = (ee.Image(coefficients).matrixMultiply(arrayImage2D)\n",
    "    # Get rid of the extra  dimensions.\n",
    "        .arrayProject([0])  \n",
    "    # Get a multi-band image  with TC-named bands.  \n",
    "        .arrayFlatten(\n",
    "          [['brightness', 'greenness', 'wetness', 'fourth', 'fifth', 'sixth']]\n",
    "        ))\n",
    "\n",
    "vizParams = {\n",
    "  'bands': ['brightness', 'greenness', 'wetness'],\n",
    "  'min': -0.1, \n",
    "    'max': [0.5,  0.1, 0.1]\n",
    "};\n",
    "\n",
    "map8 = build_map(lat, lon, zoom, vizParams, componentsImage, 'TC components')\n",
    "map8\n",
    "\n"
   ]
  },
  {
   "cell_type": "markdown",
   "metadata": {
    "cell_id": "00028-fce6596e-103d-48fe-b146-ab15f7889558",
    "deepnote_cell_height": 314,
    "deepnote_cell_type": "markdown"
   },
   "source": [
    "#### Principal Component Analysis (PCA)\n",
    "\n",
    "Like the Tasseled Cap transform, the [PCA transform](https://en.wikipedia.org/wiki/Principal_component_analysis) is a rotational transform in which the new basis is orthonormal, but the axes are determined from statistics of the input image, rather than empirical data. Specifically, the new basis is the [eigenvector](https://en.wikipedia.org/wiki/Eigenvalues_and_eigenvectors) of the image's [variance-covariance matrix](https://en.wikipedia.org/wiki/Covariance_matrix). As a result, the principal components are uncorrelated. To demonstrate, use the Landsat 8 image converted to an array image. Use the `reduceRegion()` [method](https://developers.google.com/earth-engine/reducers_reduce_region) to compute statistics (band covariances) for the image.\n",
    "\n",
    "A [*reducer*](https://developers.google.com/earth-engine/reducers_intro) is an object that tells Earth Engine what statistic to compute. Note that the result of the reduction is an object with one property, an array, that stores the covariance matrix. The next step is to compute the eigenvectors and eigenvalues of that covariance matrix. Since the eigenvalues are appended to the eigenvectors, slice the two apart and discard the eigenvectors. Perform the matrix multiplication, as with the TC components. Finally, convert back to a multi-band image and display the first PC.\n",
    "\n",
    "Use the [layer manager](https://developers.google.com/earth-engine/playground#layer-manager) to stretch the result appropriately. What do you observe? Try displaying some of the other principal components. The image parameters in the code chunk below are built specifically for Principal Component 1. "
   ]
  },
  {
   "cell_type": "code",
   "execution_count": 13,
   "metadata": {
    "cell_id": "00029-e218b558-fe5f-47a6-a7aa-07bde2e10f22",
    "deepnote_cell_height": 965,
    "deepnote_cell_type": "code",
    "deepnote_to_be_reexecuted": false,
    "execution_millis": 2123,
    "execution_start": 1648999087249,
    "source_hash": "3f107c25"
   },
   "outputs": [
    {
     "data": {
      "application/vnd.jupyter.widget-view+json": {
       "model_id": "1e7ee352b72048f5a34a9a6a26b0d35f",
       "version_major": 2,
       "version_minor": 0
      },
      "text/plain": [
       "Map(center=[37.22, -80.42], controls=(WidgetControl(options=['position', 'transparent_bg'], widget=HBox(childr…"
      ]
     },
     "metadata": {},
     "output_type": "display_data"
    }
   ],
   "source": [
    "lat = 37.22; lon = -80.42; \n",
    "zoom = 11\n",
    "image_collection_name = \"LANDSAT/LC08/C01/T1_TOA\"\n",
    "date_start = '2013-11-17'\n",
    "date_end = '2014-03-27'\n",
    "name = 'PCA'\n",
    "point = ee.Geometry.Point([lon, lat])\n",
    "\n",
    "image = (\n",
    "    ee.ImageCollection(image_collection_name)\n",
    "         .filterBounds(point)\n",
    "         .filterDate(date_start, date_end)\n",
    "         .sort('CLOUD_COVER')\n",
    "         .first()\n",
    ")\n",
    "\n",
    "bands = ['B2', 'B3', 'B4', 'B5', 'B6', 'B7', 'B10', 'B11']\n",
    "\n",
    "arrayImage =  image.select(bands).toArray();  \n",
    "covar = arrayImage.reduceRegion(\n",
    "  reducer = ee.Reducer.covariance(),\n",
    "  maxPixels = 1000000000\n",
    ")\n",
    "\n",
    "covarArray = ee.Array(covar.get('array'));  \n",
    "eigens = covarArray.eigen();  \n",
    "eigenVectors = eigens.slice(1, 1); \n",
    "\n",
    "principalComponents = ee.Image(eigenVectors).matrixMultiply(arrayImage.toArray(1));  \n",
    "pcImage = (principalComponents      \n",
    "                        .arrayProject([0])    \n",
    "    # Make the one band  array image a multi-band image, [] -> image.    \n",
    "                    .arrayFlatten(\n",
    "          [['pc1', 'pc2', 'pc3', 'pc4', 'pc5', 'pc6', 'pc7', 'pc8']]\n",
    "        )); \n",
    "\n",
    "#Customize the visual parameters for PC1\n",
    "vizParams = {\n",
    "  \"opacity\":1,\n",
    "  \"bands\": [\"pc1\"],\n",
    "  \"min\":-420,\n",
    "    \"max\":-400,\n",
    "  \"gamma\":1}\n",
    "\n",
    "map8 = build_map(lat, lon, zoom, vizParams, pcImage.select('pc1'), 'TC components')\n",
    "map8\n"
   ]
  },
  {
   "cell_type": "markdown",
   "metadata": {
    "cell_id": "00030-f61ed116-55bc-4f01-bb2d-041fbb4d6bc4",
    "deepnote_cell_height": 160,
    "deepnote_cell_type": "markdown"
   },
   "source": []
  },
  {
   "cell_type": "markdown",
   "metadata": {
    "cell_id": "00031-2e75b8f5-79a7-4921-a8ce-517e8555800f",
    "deepnote_cell_height": 422,
    "deepnote_cell_type": "markdown"
   },
   "source": [
    "#### Spectral Unmixing\n",
    "\n",
    "The [linear spectral mixing model](http://ieeexplore.ieee.org/xpls/abs_all.jsp?arnumber=974727&tag=1) is based on the assumption that each pixel is a mixture of \"pure\" spectra. The pure spectra, called *endmembers*, are from land cover classes such as water, bare land, vegetation. The goal is to solve the following equation for **f**, the *P*x1 vector of endmember fractions in the pixel:  \n",
    "\n",
    "$$Sf = p$$\n",
    "\n",
    "where **S** is a *B*x*P* matrix in which the columns are *P* pure endmember spectra (known) and **p** is the *B*x1 pixel vector when there are *B* bands (known). In this example, $B= 6$: \n",
    "\n",
    "The first step is to get the endmember spectra, which we can do by computing the mean spectra in polygons around regions of pure land cover. In this example, we will use a location in northern Washington State and use the geometry tools to select homogeneous areas of bare land, vegetation and water.\n",
    "\n",
    "Using the [geometry drawing tools](https://developers.google.com/earth-engine/playground#geometry-tools), make three layers clicking **+ new layer**. In the first layer, digitize a polygon around pure bare land, in the second layer make a polygon of pure vegetation, and in the third layer, make a water polygon. Name the imports `bare`, `water` and, and `vegetation`, respectively. \n",
    "\n",
    "Note: For a starting point, we included some basic polygons but feel free to replace in a region of your choice. "
   ]
  },
  {
   "cell_type": "code",
   "execution_count": 14,
   "metadata": {
    "cell_id": "00032-4fcd1b3b-0db8-4041-b551-e9e0409586d5",
    "deepnote_cell_height": 711,
    "deepnote_cell_type": "code",
    "deepnote_to_be_reexecuted": false,
    "execution_millis": 0,
    "execution_start": 1648999089391,
    "source_hash": "86274723"
   },
   "outputs": [],
   "source": [
    "lat = 48.11; lon = -123.25; \n",
    "zoom = 11\n",
    "image_collection_name = \"LANDSAT/LC08/C01/T1_TOA\"\n",
    "date_start = '2013-06-17'\n",
    "date_end = '2014-03-27'\n",
    "name = 'PCA'\n",
    "point = ee.Geometry.Point([lon, lat])\n",
    "\n",
    "image = (\n",
    "    ee.ImageCollection(image_collection_name)\n",
    "         .filterBounds(point)\n",
    "         .filterDate(date_start, date_end)\n",
    "         .sort('CLOUD_COVER')\n",
    "         .first()\n",
    ")\n",
    "\n",
    "# Polygons of bare earth, water and vegetation\n",
    "bare = (\n",
    "    ee.Geometry.Polygon(\n",
    "        [[[-123.2370707334838, 48.1151452657945],\n",
    "          [-123.2370707334838, 48.11351208612645],\n",
    "          [-123.23410957473136, 48.11351208612645],\n",
    "          [-123.23410957473136, 48.1151452657945]]]))\n",
    "water = (\n",
    "    ee.Geometry.Polygon(\n",
    "        [[[-123.2748188020549, 48.12059599002954],\n",
    "          [-123.2748188020549, 48.118074835535865],\n",
    "          [-123.2673086168132, 48.118074835535865],\n",
    "          [-123.2673086168132, 48.12059599002954]]]))\n",
    "vegetation = (\n",
    "    ee.Geometry.Polygon(\n",
    "        [[[-123.27462568300582, 48.11533866992809],\n",
    "          [-123.27462568300582, 48.114163936320416],\n",
    "          [-123.27215805071212, 48.114163936320416],\n",
    "          [-123.27215805071212, 48.11533866992809]]]))\n",
    "unmixImage = image.select(['B2', 'B3', 'B4', 'B5', 'B6', 'B7']);"
   ]
  },
  {
   "cell_type": "code",
   "execution_count": 15,
   "metadata": {
    "cell_id": "00033-5ada209b-964a-4106-901b-c2763e1bc9bc",
    "deepnote_cell_height": 298,
    "deepnote_cell_type": "code",
    "deepnote_to_be_reexecuted": false,
    "execution_millis": 2,
    "execution_start": 1648999089436,
    "source_hash": "c79e3cf8"
   },
   "outputs": [
    {
     "data": {
      "text/plain": [
       "\"\\nprint(Chart.image.regions(unmixImage, ee.FeatureCollection([\\n    ee.Feature(bare, {label: 'bare'}), \\n    ee.Feature(water, {label: 'water'}),\\n    ee.Feature(vegetation, {label: 'vegetation'})]), \\n  ee.Reducer.mean(), 30, 'label', [0.48, 0.56, 0.65, 0.86, 1.61, 2.2]));\\n  \\n\""
      ]
     },
     "execution_count": 15,
     "metadata": {},
     "output_type": "execute_result"
    }
   ],
   "source": [
    "unmixImage = image.select(['B2', 'B3', 'B4', 'B5', 'B6', 'B7']);  \n",
    "\n",
    "# TODO: Need to update charts \n",
    "\"\"\"\n",
    "print(Chart.image.regions(unmixImage, ee.FeatureCollection([\n",
    "    ee.Feature(bare, {label: 'bare'}), \n",
    "    ee.Feature(water, {label: 'water'}),\n",
    "    ee.Feature(vegetation, {label: 'vegetation'})]), \n",
    "  ee.Reducer.mean(), 30, 'label', [0.48, 0.56, 0.65, 0.86, 1.61, 2.2]));\n",
    "  \n",
    "\"\"\""
   ]
  },
  {
   "cell_type": "markdown",
   "metadata": {
    "cell_id": "00034-b59a415b-1e63-46f6-93f7-53635cdddcc3",
    "deepnote_cell_height": 372,
    "deepnote_cell_type": "markdown"
   },
   "source": [
    "Check the polygons you made by charting mean spectra in them using [Chart.image.regions()](https://developers.google.com/earth-engine/charts_image_regions):\n",
    "\n",
    "Your chart should look something like:\n",
    "\n",
    "![Charting Spectra](https://github.com/ghidora77/03_GEE_Labs_DSPG/blob/main/im/im_04_03.png?raw=true)"
   ]
  },
  {
   "cell_type": "markdown",
   "metadata": {
    "cell_id": "00035-7258426a-a496-42bb-a371-8f49dae5684e",
    "deepnote_cell_height": 242,
    "deepnote_cell_type": "markdown"
   },
   "source": [
    "Use the [reduceRegion() method](https://developers.google.com/earth-engine/reducers_reduce_region) to compute mean spectra in the polygons you made. Note that the return value of reduceRegion() is a Dictionary, with reducer output keyed by band name. Get the means as a list by calling `values()`. Each of these three lists represents a mean spectrum vector. Stack the vectors into a 6x3 Array of endmembers by concatenating them along the 1-axis (or columns direction).\n",
    "\n",
    "Turn the 6-band input image into an image in which each pixel is a 1D vector (`toArray()`), then into an image in which each pixel is a 6x1 matrix (`toArray(1)`). Now that the dimensions match, in each pixel, solve the equation for **f**. Finally, convert the result from a 2D array image into a 1D array image (`arrayProject()`), then to a multi-band image (`arrayFlatten()`). The three bands correspond to the estimates of bare, vegetation and water fractions in **f**. Display the result where bare is red, vegetation is green, and water is blue (the `addLayer()` call expects bands in order, RGB)"
   ]
  },
  {
   "cell_type": "code",
   "execution_count": 16,
   "metadata": {
    "cell_id": "00036-55fadf1e-5c68-4a37-84d5-c6a5e58d565c",
    "deepnote_cell_height": 389,
    "deepnote_cell_type": "code",
    "deepnote_to_be_reexecuted": false,
    "execution_millis": 1983,
    "execution_start": 1648999089436,
    "source_hash": "3346f7b9"
   },
   "outputs": [
    {
     "data": {
      "application/vnd.jupyter.widget-view+json": {
       "model_id": "b2d9d5fa2d6b44c3b59c24700c8d73e9",
       "version_major": 2,
       "version_minor": 0
      },
      "text/plain": [
       "Map(center=[48.11, -123.25], controls=(WidgetControl(options=['position', 'transparent_bg'], widget=HBox(child…"
      ]
     },
     "metadata": {},
     "output_type": "display_data"
    }
   ],
   "source": [
    "bareMean = unmixImage.reduceRegion(\n",
    "  ee.Reducer.mean(), bare, 30).values();   \n",
    "waterMean = unmixImage.reduceRegion(\n",
    "  ee.Reducer.mean(), water, 30).values();   \n",
    "vegMean = unmixImage.reduceRegion(\n",
    "  ee.Reducer.mean(), vegetation, 30).values();\n",
    "\n",
    "endmembers = ee.Array.cat([bareMean,  vegMean, waterMean], 1);  \n",
    "arrayImage = unmixImage.toArray().toArray(1);\n",
    "unmixed =  ee.Image(endmembers).matrixSolve(arrayImage);\n",
    "unmixedImage = unmixed.arrayProject([0]).arrayFlatten(\n",
    "          [['bare', 'veg', 'water']]\n",
    "        );\n",
    "\n",
    "map8 = build_map(lat, lon, zoom, {}, unmixedImage, 'unmixedImage')\n",
    "map8"
   ]
  },
  {
   "cell_type": "markdown",
   "metadata": {
    "cell_id": "00037-da1c0bc0-b7b9-414f-8312-ada9dfc45be0",
    "deepnote_cell_height": 88,
    "deepnote_cell_type": "markdown"
   },
   "source": []
  },
  {
   "cell_type": "markdown",
   "metadata": {
    "cell_id": "00038-18e234fc-12f2-47e8-b80e-1a75a33d72ba",
    "deepnote_cell_height": 132,
    "deepnote_cell_type": "markdown"
   },
   "source": [
    "#### Hue-Saturation-Value Transform\n",
    "\n",
    "The Hue-Saturation-Value (HSV) model [is a color transform of the RGB color space](https://en.wikipedia.org/wiki/HSL_and_HSV). Among many other things, it is useful for [pan-sharpening](https://en.wikipedia.org/wiki/Pansharpened_image). This involves converting an RGB to HSV, swapping the panchromatic band for the value (V), then converting back to RGB. For example, using the Landsat 8 scene:"
   ]
  },
  {
   "cell_type": "code",
   "execution_count": 17,
   "metadata": {
    "cell_id": "00039-b14aa7cd-1b8b-4e78-b829-131984f3c341",
    "deepnote_cell_height": 587,
    "deepnote_cell_type": "code",
    "deepnote_to_be_reexecuted": false,
    "execution_millis": 1486,
    "execution_start": 1648999091470,
    "source_hash": "4b574475"
   },
   "outputs": [
    {
     "data": {
      "application/vnd.jupyter.widget-view+json": {
       "model_id": "eb9730650ecc4b6da0923d535e96e789",
       "version_major": 2,
       "version_minor": 0
      },
      "text/plain": [
       "Map(center=[37.22, -80.42], controls=(WidgetControl(options=['position', 'transparent_bg'], widget=HBox(childr…"
      ]
     },
     "metadata": {},
     "output_type": "display_data"
    }
   ],
   "source": [
    "lat = 37.22; lon = -80.42; \n",
    "zoom = 11;\n",
    "image_collection_name = \"LANDSAT/LC08/C01/T1_TOA\"\n",
    "date_start = '2013-06-17'\n",
    "date_end = '2014-03-27'\n",
    "name = 'Hue Saturation'\n",
    "point = ee.Geometry.Point([lon, lat])\n",
    "\n",
    "image = (\n",
    "    ee.ImageCollection(image_collection_name)\n",
    "         .filterBounds(point)\n",
    "         .filterDate(date_start, date_end)\n",
    "         .sort('CLOUD_COVER')\n",
    "         .first()\n",
    ")\n",
    "\n",
    "# Convert Landsat RGB bands to HSV   \n",
    "hsv = image.select(['B4', 'B3', 'B2']).rgbToHsv();\n",
    "# Convert back to RGB,  swapping the image panchromatic band for the value.\n",
    "rgb = ee.Image.cat([\n",
    "  hsv.select('hue'),\n",
    "  hsv.select('saturation'),\n",
    "  image.select(['B8'])]).hsvToRgb();\n",
    "\n",
    "map8 = build_map(lat, lon, zoom, {'max': 0.4}, rgb, 'hue saturation')\n",
    "map8\n"
   ]
  },
  {
   "cell_type": "markdown",
   "metadata": {
    "cell_id": "00041-3abf007f-421f-41a5-9d05-4c1bafb95151",
    "deepnote_cell_height": 244,
    "deepnote_cell_type": "markdown"
   },
   "source": [
    "## Spectral Transformation\n",
    "\n",
    "### Linear Filtering\n",
    "\n",
    "In the present context, linear *filtering* (or [convolution](http://www.dspguide.com/ch24/1.htm)) refers to a linear combination of pixel values in a 'neighborhood', or [kernel](https://en.wikipedia.org/wiki/Kernel_(image_processing)), where the weights of the kernel determine the coefficients in the linear combination (for this lab, the terms *kernel* and *filter* are interchangeable.) Filtering an image can be useful for extracting image information at different [spatial frequencies](http://www.dspguide.com/ch24/5.htm) by reducing noise. For this reason, smoothing filters are called *low-pass* filters (they let *low*-frequency data *pass* through) and edge detection filters are called *high-pass* filters. To implement filtering in Earth Engine use [image.convolve()](https://developers.google.com/earth-engine/guides/image_convolutions) with an ee.Kernel for the argument."
   ]
  },
  {
   "cell_type": "markdown",
   "metadata": {
    "cell_id": "00042-cbcee67a-76cb-4a71-a960-9ec83b390903",
    "deepnote_cell_height": 248,
    "deepnote_cell_type": "markdown"
   },
   "source": [
    "#### Smoothing\n",
    "\n",
    "Smoothing means to convolve an image with a smoothing kernel. \n",
    "\n",
    "A simple smoothing filter is a square kernel with uniform weights that sum to one. Convolving with this kernel sets each pixel to the mean of its neighborhood. Print a square kernel with uniform weights (this is sometimes called a \"pillbox\" or \"boxcar\" filter):\n",
    "\n",
    "Expand the kernel object in the console to see the weights. This kernel is defined by how many pixels it covers (i.e. `radius` is in units of 'pixels'). A kernel with radius defined in 'meters' adjusts its size in pixels, so you can't visualize its weights, but it's more flexible in terms of adapting to inputs of different scale. In the following, use kernels with radius defined in meters except to visualize the weights."
   ]
  },
  {
   "cell_type": "code",
   "execution_count": 18,
   "metadata": {
    "cell_id": "00043-482121bc-40a8-4e8c-8aca-8c9ed85151bc",
    "deepnote_cell_height": 598,
    "deepnote_cell_type": "code",
    "deepnote_to_be_reexecuted": false,
    "execution_millis": 29,
    "execution_start": 1648999092962,
    "source_hash": "c12fe39c"
   },
   "outputs": [],
   "source": [
    "lat = 37.22; lon = -80.42; \n",
    "zoom = 14\n",
    "image_collection_name = \"USDA/NAIP/DOQQ\"\n",
    "date_start = '2013-06-17'\n",
    "date_end = '2017-03-27'\n",
    "name = 'NAIP'\n",
    "point = ee.Geometry.Point([lon, lat])\n",
    "\n",
    "image = (\n",
    "    ee.ImageCollection(image_collection_name)\n",
    "         .filterBounds(point)\n",
    "         .filterDate(date_start, date_end)\n",
    "         .sort('CLOUD_COVER')\n",
    "         .first()\n",
    ")\n",
    "\n",
    "# Print a uniform kernel to see its weights.\n",
    "# print('A uniform kernel:', ee.Kernel.square(2));"
   ]
  },
  {
   "cell_type": "markdown",
   "metadata": {
    "cell_id": "00044-8043274e-f8fd-4cc2-b121-ccf1b230b37b",
    "deepnote_cell_height": 287,
    "deepnote_cell_type": "markdown"
   },
   "source": [
    "![Kernel Description](https://github.com/ghidora77/03_GEE_Labs_DSPG/blob/main/im/im_03_11.png?raw=true)\n",
    "\n",
    "Define a kernel with 2-meter radius (which corresponds to how many pixels in the NAIP image? Hint: try [projection.nominalScale()](https://developers.google.com/earth-engine/guides/projections)), convolve the image with the kernel and compare the input image with the smoothed image:"
   ]
  },
  {
   "cell_type": "code",
   "execution_count": 19,
   "metadata": {
    "cell_id": "00045-b7351bef-5f9b-409b-9058-c360a3a19fde",
    "deepnote_cell_height": 371,
    "deepnote_cell_type": "code",
    "deepnote_to_be_reexecuted": false,
    "execution_millis": 2216,
    "execution_start": 1648999092993,
    "source_hash": "e9aadb2c"
   },
   "outputs": [
    {
     "data": {
      "application/vnd.jupyter.widget-view+json": {
       "model_id": "23d25427757c4eb4b3cf12c5d6b938af",
       "version_major": 2,
       "version_minor": 0
      },
      "text/plain": [
       "Map(center=[37.22, -80.42], controls=(WidgetControl(options=['position', 'transparent_bg'], widget=HBox(childr…"
      ]
     },
     "metadata": {},
     "output_type": "display_data"
    }
   ],
   "source": [
    "# Define a square, uniform kernel.\n",
    "uniformKernel = ee.Kernel.square(\n",
    " radius =  2,\n",
    " units = 'meters',\n",
    ")\n",
    "\n",
    "# Filter the image by convolving with the smoothing filter.\n",
    "smoothed = image.convolve(uniformKernel)\n",
    "vizParams = {\n",
    "  'min': 0.0,\n",
    "  'max': 255.0,\n",
    "}\n",
    "\n",
    "map9 = build_map(lat, lon, zoom, vizParams, smoothed, 'Smoothed')\n",
    "map9"
   ]
  },
  {
   "cell_type": "markdown",
   "metadata": {
    "cell_id": "00046-1a5d0d9a-748b-412c-8a38-cc2d7e6eb035",
    "deepnote_cell_height": 154,
    "deepnote_cell_type": "markdown"
   },
   "source": [
    "To make the image even smoother, try increasing the size of the neighborhood by increasing the pixel radius. to the human eye, the image is blurrier, but in many Machine Learning and Computer Vision algorithms, this process improves our output by reducing noise. \n",
    "\n",
    "\n",
    "A Gaussian kernel can also be used for smoothing. Think of filtering with a Gaussian kernel as computing the weighted average in each pixel's neighborhood. "
   ]
  },
  {
   "cell_type": "code",
   "execution_count": 23,
   "metadata": {
    "cell_id": "00047-39c25ba0-97cd-49e3-9d4e-3814a70ec8df",
    "deepnote_cell_height": 371,
    "deepnote_cell_type": "code",
    "deepnote_to_be_reexecuted": false,
    "execution_millis": 1780,
    "execution_start": 1648999095267,
    "source_hash": "d00cecc7"
   },
   "outputs": [
    {
     "data": {
      "application/vnd.jupyter.widget-view+json": {
       "model_id": "4b2b9fb6e6534a14bc7621bd9532f5b6",
       "version_major": 2,
       "version_minor": 0
      },
      "text/plain": [
       "Map(center=[37.22, -80.42], controls=(WidgetControl(options=['position', 'transparent_bg'], widget=HBox(childr…"
      ]
     },
     "metadata": {},
     "output_type": "display_data"
    }
   ],
   "source": [
    "# Print a Gaussian kernel to see its weights.\n",
    "\n",
    "#print('A Gaussian kernel:', ee.Kernel.gaussian(2))\n",
    "\n",
    "# Define a square Gaussian kernel:\n",
    "gaussianKernel = ee.Kernel.gaussian(\n",
    " radius =  2,\n",
    " units = 'meters',\n",
    ")\n",
    "\n",
    "# Filter the image by convolving with the smoothing filter.\n",
    "gaussiansmooth = image.convolve(gaussianKernel)\n",
    "\n",
    "map9 = build_map(lat, lon, zoom, vizParams, gaussiansmooth, 'Smoothed')\n",
    "map9"
   ]
  },
  {
   "cell_type": "markdown",
   "metadata": {
    "cell_id": "00049-e10307ac-1c78-4332-a96f-2bdb92db717e",
    "deepnote_cell_height": 190,
    "deepnote_cell_type": "markdown"
   },
   "source": [
    "#### Edge Detection\n",
    "\n",
    "Convolving with an edge-detection kernel is used to find rapid changes in values that usually signify the edges of objects in the image data. \n",
    "\n",
    "A classic edge detection kernel is the [Laplacian](https://en.wikipedia.org/wiki/Discrete_Laplace_operator) kernel. Investigate the kernel weights and the image that results from convolving with the Laplacian. Other edge detection kernels include the [Sobel](https://en.wikipedia.org/wiki/Sobel_operator), [Prewitt](https://en.wikipedia.org/wiki/Prewitt_operator) and [Roberts](https://en.wikipedia.org/wiki/Roberts_cross) kernels. [Learn more about additional edge detection methods in Earth Engine](https://developers.google.com/earth-engine/image_edges).  "
   ]
  },
  {
   "cell_type": "code",
   "execution_count": 21,
   "metadata": {
    "cell_id": "00050-7d326e0b-3c2d-4437-8495-eabc954dffc2",
    "deepnote_cell_height": 317,
    "deepnote_cell_type": "code",
    "deepnote_to_be_reexecuted": false,
    "execution_millis": 1616,
    "execution_start": 1648999097011,
    "source_hash": "af12339e"
   },
   "outputs": [
    {
     "data": {
      "application/vnd.jupyter.widget-view+json": {
       "model_id": "3a9cc6c8bb3f4128840591bcb1761a32",
       "version_major": 2,
       "version_minor": 0
      },
      "text/plain": [
       "Map(center=[37.22, -80.42], controls=(WidgetControl(options=['position', 'transparent_bg'], widget=HBox(childr…"
      ]
     },
     "metadata": {},
     "output_type": "display_data"
    }
   ],
   "source": [
    "# Define a Laplacian, or edge-detection kernel.\n",
    "laplace = ee.Kernel.laplacian8(normalize= False)\n",
    "edges = image.convolve(laplace)\n",
    "vizParams = {\n",
    "  'min': 0,\n",
    "  'max': 255,\n",
    "  'format': 'png'\n",
    "}\n",
    "zoom = 18\n",
    "\n",
    "map10 = build_map(lat, lon, zoom, vizParams, edges, 'Edge Detection')\n",
    "map10"
   ]
  }
 ],
 "metadata": {
  "deepnote": {
   "is_reactive": false
  },
  "deepnote_execution_queue": [],
  "deepnote_notebook_id": "edacfa2e-10e3-4b48-aa79-3b55c12175eb",
  "kernelspec": {
   "display_name": "geo",
   "language": "python",
   "name": "geo"
  },
  "language_info": {
   "codemirror_mode": {
    "name": "ipython",
    "version": 3
   },
   "file_extension": ".py",
   "mimetype": "text/x-python",
   "name": "python",
   "nbconvert_exporter": "python",
   "pygments_lexer": "ipython3",
   "version": "3.7.10"
  }
 },
 "nbformat": 4,
 "nbformat_minor": 4
}
