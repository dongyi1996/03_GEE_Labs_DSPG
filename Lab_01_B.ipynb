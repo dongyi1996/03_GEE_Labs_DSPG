{
 "cells": [
  {
   "cell_type": "markdown",
   "metadata": {},
   "source": [
    "# Resolution\n",
    "\n",
    "In this lab, we will discuss resolution in the context of satellite imagery. We will focus on the four primary types:\n",
    "\n",
    "1. Spatial\n",
    "2. Temporal\n",
    "3. Radiometric\n",
    "4. Spectral\n",
    "\n",
    "While doing this, we will introduce three of the most well-known satellite missions:\n",
    "1. MODIS\n",
    "2. Landsat\n",
    "3. Sentinel"
   ]
  },
  {
   "cell_type": "code",
   "execution_count": 1,
   "metadata": {},
   "outputs": [],
   "source": [
    "#!pip install geemap\n",
    "\n",
    "import ee, geemap, pprint\n",
    "#ee.Authenticate()\n",
    "\n",
    "def build_map(lat, lon, zoom, vizParams, image, name):\n",
    "    map = geemap.Map(center = [lat, lon], zoom = zoom)\n",
    "    map.addLayer(image, vizParams, name)\n",
    "    \n",
    "    return map\n",
    "\n",
    "# Initialize the Earth Engine module.\n",
    "ee.Initialize()"
   ]
  },
  {
   "cell_type": "markdown",
   "metadata": {
    "cell_id": "00013-0dd1e834-8ae0-427e-a322-2f5ff1bc613a",
    "deepnote_cell_height": 320,
    "deepnote_cell_type": "markdown"
   },
   "source": [
    "## Spatial Resolution                                                     \n",
    "\n",
    "Spatial resolution refers to the real-world representation of each pixel. This ranges widely, with the private satellite company Maxar announcing 15cm [resolution](https://blog.maxar.com/earth-intelligence/2020/introducing-15-cm-hd-the-highest-clarity-from-commercial-satellite-imagery), Sentinel at 10m, Landsat at 30m, and MODIS at 500. There are also large global products that have spatial resolution in the kilometers. The key point in dealing with spatial resolution is ensuring that your analysis drives your data collection, as there are tradeoffs involved. Using high resolution imagery can be expensive, both monetarily and computationally, if conducting continent wide analysis. Yet using low-resolution imagery will not be effective if your use case necessitates identifying individual buildings or small vehicles. Understanding the appropriate spatial resolution needed for your analysis is essential, and is why there are different platforms that focus on different spatial resolutions.\n",
    "\n",
    "In practice, spatial resolution depends on the projection of the sensor's instantaneous field of view (IFOV) of the ground and how a set of radiometric measurements are resampled into a regular grid. To see the difference in spatial resolution resulting from different sensors, let's visualize data from the three primary platforms."
   ]
  },
  {
   "cell_type": "markdown",
   "metadata": {
    "cell_id": "00014-c1af65b9-3680-43e9-9a29-f02ecf7f7f82",
    "deepnote_cell_height": 212,
    "deepnote_cell_type": "markdown"
   },
   "source": [
    "### MODIS \n",
    "\n",
    "There are two Moderate Resolution Imaging Spectro-Radiometers ([MODIS](http://modis.gsfc.nasa.gov/)) aboard the [Terra](http://terra.nasa.gov/) and [Aqua](http://aqua.nasa.gov/) satellites. Different MODIS [bands](http://modis.gsfc.nasa.gov/about/specifications.php) produce data at different spatial resolutions. For the visible bands, the lowest common resolution is 500 meters. Data from the MODIS platforms are used to produce a large number of data sets having daily, weekly, 16-day, monthly, and annual data sets. Outside this lab, you can find a list of MODIS land products [here](https://lpdaac.usgs.gov/dataset_discovery/modis/modis_products_table). \n",
    "\n",
    "In the code below, we are working with the MODIS Terra Surface Reflectance 8-day Global 500m resolution data. Change the number in the `zoom` variable to scroll in and out - notice that when scrolled in each pixel is quite large and granular. "
   ]
  },
  {
   "cell_type": "code",
   "execution_count": 2,
   "metadata": {
    "cell_id": "00015-9a7a6525-a01b-4f3c-92dc-6d71703f9c2a",
    "deepnote_cell_height": 1163,
    "deepnote_cell_type": "code",
    "deepnote_to_be_reexecuted": false,
    "execution_millis": 1382,
    "execution_start": 1654104794475,
    "source_hash": "4b8451dc"
   },
   "outputs": [
    {
     "data": {
      "application/vnd.jupyter.widget-view+json": {
       "model_id": "31a370b0d7a345019454dae9b143058c",
       "version_major": 2,
       "version_minor": 0
      },
      "text/plain": [
       "Map(center=[13.7, 2.54], controls=(WidgetControl(options=['position', 'transparent_bg'], widget=HBox(children=…"
      ]
     },
     "metadata": {},
     "output_type": "display_data"
    }
   ],
   "source": [
    "# Define the variables\n",
    "lat = 13.7; lon = 2.54\n",
    "zoom = 11\n",
    "image_collection_name = 'MODIS/006/MOD09A1'\n",
    "date_start = '2018-01-01'\n",
    "date_end = '2018-05-01'\n",
    "name = 'MODIS'\n",
    "\n",
    "image = (\n",
    "    ee.ImageCollection(image_collection_name)\n",
    "         .filterDate(date_start, date_end)\n",
    "         .first()\n",
    ")\n",
    "\n",
    "bands = ['sur_refl_b01', 'sur_refl_b04', 'sur_refl_b03']\n",
    "\n",
    "vizParams = {\n",
    "    'bands': bands, \n",
    "    'min': -100,\n",
    "    'max': 3000\n",
    "}\n",
    "\n",
    "map = build_map(lat, lon, zoom, vizParams, image, name)\n",
    "map"
   ]
  },
  {
   "cell_type": "markdown",
   "metadata": {
    "cell_id": "00016-f4d145ba-a1a3-4fb0-b044-b54539f77c81",
    "deepnote_cell_height": 118,
    "deepnote_cell_type": "markdown"
   },
   "source": [
    "We will discuss some of the benefits of working with a false-color imagery in later sections, but we can modify the bands we want to visualize. In this case, we are using a random set of bands, where the value of band six is visualized with red, band three is visualized with green, and band one with blue. Because the value of band six has a higher range, this image shows up with a heavy red presence. "
   ]
  },
  {
   "cell_type": "code",
   "execution_count": 3,
   "metadata": {
    "cell_id": "00017-5f7c8e9a-cd31-4b15-be67-eb512ccc2c7b",
    "deepnote_cell_height": 911,
    "deepnote_cell_type": "code",
    "deepnote_to_be_reexecuted": false,
    "execution_millis": 1685,
    "execution_start": 1654104795845,
    "source_hash": "a195fd8"
   },
   "outputs": [
    {
     "data": {
      "application/vnd.jupyter.widget-view+json": {
       "model_id": "01422df451f540c48088745d24cc1203",
       "version_major": 2,
       "version_minor": 0
      },
      "text/plain": [
       "Map(center=[13.7, 2.54], controls=(WidgetControl(options=['position', 'transparent_bg'], widget=HBox(children=…"
      ]
     },
     "metadata": {},
     "output_type": "display_data"
    }
   ],
   "source": [
    "bands = ['sur_refl_b06', 'sur_refl_b03', 'sur_refl_b01']\n",
    "\n",
    "vizParams = {\n",
    "    'bands': bands, \n",
    "    'min': -100, \n",
    "    'max': 3000\n",
    "}\n",
    "\n",
    "map1 = build_map(lat, lon, zoom, vizParams, image, name)\n",
    "map1"
   ]
  },
  {
   "cell_type": "markdown",
   "metadata": {
    "cell_id": "00018-555ab191-6dd1-490a-b190-9f6de0b31665",
    "deepnote_cell_height": 176,
    "deepnote_cell_type": "markdown"
   },
   "source": [
    "Compare the  size of MODIS pixels to objects on the ground. It may help to turn on the satellite basemap and lower the opacity of the layer (top right of map section of code editor) to see high-resolution data for comparison.\n",
    "\n",
    "Print the size of the pixels (in meters) to the console. You can read more about how Google Earth Engine works with scale in their [documentation](https://developers.google.com/earth-engine/guides/scale). While the listed pixel resolution for this satellite platform is 500m, the printout is likely different - this is due to the way that GEE aggregates pixels to fit into a 256x256 tile. The details of this process are outside the scope of this course, but understand that GEE is conducting projections and resampling behind the scenes.  "
   ]
  },
  {
   "cell_type": "markdown",
   "metadata": {
    "cell_id": "00020-270bea5e-3dd5-4892-a186-9c42b14564cb",
    "deepnote_cell_height": 154,
    "deepnote_cell_type": "markdown"
   },
   "source": [
    "### Landsat\n",
    "\n",
    "Multi-spectral [scanners](https://landsat.gsfc.nasa.gov/multispectral-scanner-system) (MSS) were flown aboard Landsat missions 1-5 and have a spatial resolution of 60 meters. Let's look at the Landsat 5 MSS Collection 1 Tier 1 Raw Scenes - note that in the 'Bands' description of the dataset, there is no band related to blue (Green, Red, Near InfraRed 1 & 2). In this case, we will have to visualize the image using the near infrared, resulting in a false color composite. "
   ]
  },
  {
   "cell_type": "code",
   "execution_count": 4,
   "metadata": {
    "cell_id": "00021-8c4fd759-a623-49e3-86e4-96a1d7173354",
    "deepnote_cell_height": 1163,
    "deepnote_cell_type": "code",
    "deepnote_to_be_reexecuted": false,
    "execution_millis": 1513,
    "execution_start": 1654104797350,
    "source_hash": "251a001b"
   },
   "outputs": [
    {
     "data": {
      "application/vnd.jupyter.widget-view+json": {
       "model_id": "1bf54693a6ab4f1eb093a04f9a66e710",
       "version_major": 2,
       "version_minor": 0
      },
      "text/plain": [
       "Map(center=[13.7, 2.54], controls=(WidgetControl(options=['position', 'transparent_bg'], widget=HBox(children=…"
      ]
     },
     "metadata": {},
     "output_type": "display_data"
    }
   ],
   "source": [
    "# Landsat 5\n",
    "image_collection_name = 'LANDSAT/LT05/C02/T1_L2'\n",
    "date_start = '1985-01-01'\n",
    "date_end = '1989-12-31'\n",
    "name = 'Landsat 5'\n",
    "\n",
    "\n",
    "image = (\n",
    "    ee.ImageCollection(image_collection_name)\n",
    "         .filterDate(date_start, date_end)\n",
    "         .median()\n",
    ")\n",
    "\n",
    "bands = ['SR_B3', 'SR_B2', 'SR_B1']\n",
    "\n",
    "vizParams = {\n",
    "    'bands': bands, \n",
    "    'min': 500, \n",
    "    'max': 25000\n",
    "}\n",
    "\n",
    "map2 = build_map(lat, lon, zoom, vizParams, image, name)\n",
    "map2"
   ]
  },
  {
   "cell_type": "markdown",
   "metadata": {
    "cell_id": "00024-b94519ce-3df3-4577-b81e-19315c6d7fd4",
    "deepnote_cell_height": 176,
    "deepnote_cell_type": "markdown"
   },
   "source": [
    "The Thematic Mapper ([TM](https://landsat.gsfc.nasa.gov/thematic-mapper/)) was flown aboard Landsat 4-5 and then succeeded by the Enhanced Thematic Mapper ([ETM+](https://landsat.gsfc.nasa.gov/the-enhanced-thematic-mapper-plus-etm/)) aboard Landsat 7 and the Operational Land Imager ([OLI](https://landsat.gsfc.nasa.gov/landsat-8/operational-land-imager)) / Thermal Infrared Sensor ([TIRS](https://landsat.gsfc.nasa.gov/landsat-8/thermal-infrared-sensor-tirs)) sensors aboard Landsat 8. TM data have a spatial resolution of 30 meters, which has remained the Landsat standard resolution. We can check this by importing the '*USGS Landsat 5 TM Collection 1 Tier 1 TOA Reflectance*', visualizing and printing our scale results. For some additional discussion about the transition from MSS to TM data, see [this page](https://www.usgs.gov/core-science-systems/nli/landsat/landsat-5?qt-science_support_page_related_con=0#qt-science_support_page_related_con)."
   ]
  },
  {
   "cell_type": "code",
   "execution_count": 5,
   "metadata": {
    "cell_id": "00025-eca3c53e-d4d1-45c7-a8f2-52b691da5c4d",
    "deepnote_cell_height": 1199,
    "deepnote_cell_type": "code",
    "deepnote_to_be_reexecuted": false,
    "execution_millis": 2075,
    "execution_start": 1654104798948,
    "source_hash": "87a77cf9"
   },
   "outputs": [
    {
     "data": {
      "application/vnd.jupyter.widget-view+json": {
       "model_id": "69ca3cc06a0d4f618a9f9ab39e5f5533",
       "version_major": 2,
       "version_minor": 0
      },
      "text/plain": [
       "Map(center=[13.7, 2.54], controls=(WidgetControl(options=['position', 'transparent_bg'], widget=HBox(children=…"
      ]
     },
     "metadata": {},
     "output_type": "display_data"
    }
   ],
   "source": [
    "# Landsat 8\n",
    "image_collection_name = 'LANDSAT/LC08/C02/T1_L2'\n",
    "date_start = '2018-07-01'\n",
    "date_end = '2018-12-01'\n",
    "name = 'Landsat 8'\n",
    "\n",
    "image = (\n",
    "    ee.ImageCollection(image_collection_name)\n",
    "        .filterDate(date_start, date_end)\n",
    "        .median()\n",
    ")\n",
    "\n",
    "bands = ['SR_B4', 'SR_B3', 'SR_B2']\n",
    "\n",
    "vizParams = {\n",
    "    'bands': bands, \n",
    "    'min': 5000, \n",
    "    'max': 20000\n",
    "}\n",
    "\n",
    "map3 = build_map(lat, lon, zoom, vizParams, image, name)\n",
    "map3"
   ]
  },
  {
   "cell_type": "markdown",
   "metadata": {},
   "source": [
    "### Sentinel\n",
    "The Copernicus Program is a European incentive that is run by the European Space Agency (ESA). Sentinel is the satellite constellation that collects high-resolution and Synthetic Aperture Radar imagery globally. Sentinel has 10m resolution. "
   ]
  },
  {
   "cell_type": "code",
   "execution_count": 6,
   "metadata": {},
   "outputs": [
    {
     "data": {
      "application/vnd.jupyter.widget-view+json": {
       "model_id": "f924aff1b3de4826aa0f7df823a685b3",
       "version_major": 2,
       "version_minor": 0
      },
      "text/plain": [
       "Map(center=[13.7, 2.54], controls=(WidgetControl(options=['position', 'transparent_bg'], widget=HBox(children=…"
      ]
     },
     "metadata": {},
     "output_type": "display_data"
    }
   ],
   "source": [
    "image_collection_name = 'COPERNICUS/S2_SR'\n",
    "date_start = '2019-01-01'\n",
    "date_end = '2019-12-31'\n",
    "name = 'Sentinel - Surface Reflection'\n",
    "\n",
    "image = (\n",
    "    ee.ImageCollection(image_collection_name)\n",
    "         .filterBounds(ee.Geometry.Point(lon, lat))\n",
    "         .filterDate(date_start, date_end)\n",
    "         .sort('CLOUDY_PIXEL_PERCENTAGE')\n",
    "         .first()\n",
    ")\n",
    "\n",
    "bands = ['B4', 'B3', 'B2']\n",
    "\n",
    "vizParams = {\n",
    "    'bands': bands, \n",
    "    'min': 0, \n",
    "    'max': 3300\n",
    "}\n",
    "\n",
    "map4 = build_map(lat, lon, zoom, vizParams, image, name)\n",
    "map4"
   ]
  },
  {
   "cell_type": "markdown",
   "metadata": {
    "cell_id": "00028-f315dddd-c19c-4204-b408-fa6880a669bf",
    "deepnote_cell_height": 212,
    "deepnote_cell_type": "markdown"
   },
   "source": [
    "### High Resolution Data\n",
    "\n",
    "Very high resolution data exists, but is not necessarily available. Companies such as Planet Labs and Maxar operate satellites that are cabable of collecting imagery in the sub-meter resolution range, and academics may be able to obtain sample data, but it is not generally available. \n",
    "\n",
    "The National Agriculture Imagery Program ([NAIP](http://www.fsa.usda.gov/programs-and-services/aerial-photography/imagery-programs/naip-imagery/)) is an effort by the USDA to acquire imagery over the continental US on a 3-year rotation using airborne sensors (aircraft as opposed to satellites). Because aircraft are much closer to land than a satellite (and is not dealing with as many atmospheric effects) imagery has a spatial resolution averaging 1 meter. This is considered 'high resolution data'.\n",
    "\n",
    "Since NAIP imagery is distributed as 'quarters' of Digital Ortho Quads at irregular intervals, load everything from 2012 and [mosaic()](https://developers.google.com/earth-engine/guides/ic_composite_mosaic) the image together."
   ]
  },
  {
   "cell_type": "code",
   "execution_count": 7,
   "metadata": {
    "cell_id": "00029-06ab0cc1-04bb-4558-b3c8-dad216dce998",
    "deepnote_cell_height": 1199,
    "deepnote_cell_type": "code",
    "deepnote_to_be_reexecuted": false,
    "execution_millis": 1802,
    "execution_start": 1654104801118,
    "source_hash": "5d21d3af"
   },
   "outputs": [
    {
     "data": {
      "application/vnd.jupyter.widget-view+json": {
       "model_id": "8da8fe827d9140a8afbf39d64957cc4e",
       "version_major": 2,
       "version_minor": 0
      },
      "text/plain": [
       "Map(center=[37.23, -80.41], controls=(WidgetControl(options=['position', 'transparent_bg'], widget=HBox(childr…"
      ]
     },
     "metadata": {},
     "output_type": "display_data"
    }
   ],
   "source": [
    "\n",
    "image_collection_name = \"USDA/NAIP/DOQQ\"\n",
    "date_start = '2012-01-01'\n",
    "date_end = '2012-12-31'\n",
    "name = 'NAIP'\n",
    "point = ee.Geometry.Point([-80.41, 37.23])\n",
    "\n",
    "image = (\n",
    "    ee.ImageCollection(image_collection_name)\n",
    "            .filterDate(date_start, date_end)\n",
    "            .filterBounds(point)\n",
    ")\n",
    "\n",
    "image = image.mosaic()\n",
    "\n",
    "bands = ['R', 'G', 'B']\n",
    "\n",
    "vizParams = {\n",
    "    'bands': bands,\n",
    "    #'min': 0, \n",
    "    #'max': 255\n",
    "}\n",
    "\n",
    "map5 = build_map(37.23, -80.41, 16, vizParams, image, name)\n",
    "map5"
   ]
  },
  {
   "cell_type": "markdown",
   "metadata": {
    "cell_id": "00030-f8a82062-f601-4a3b-93c0-c51211ec657a",
    "deepnote_cell_height": 154,
    "deepnote_cell_type": "markdown"
   },
   "source": [
    "Look at the difference in the resolution - with Landsat and MODIS, each pixel could broadly identify the land type, but NAIP imagery has very high resolution - you can see individual parked cars, the outline of small trees, building envelopes, etc. Start asking yourself how the spatial resolutions of different platforms could help you answer unique questions.\n",
    "\n",
    "Check the scale of NAIP by getting the first image from the mosaic (images within the mosaic might have different projections) and getting its scale (meters)."
   ]
  },
  {
   "cell_type": "markdown",
   "metadata": {
    "cell_id": "00036-168bb582-8a28-40e3-9b17-5f073022ee9d",
    "deepnote_cell_height": 320,
    "deepnote_cell_type": "markdown"
   },
   "source": [
    "## Temporal Resolution\n",
    "\n",
    "Temporal resolution refers to the *revisit time*, or how often the same satellite platform covers the same place on earth. Historically, satellites have been large, solitary objects that had to make tradeoffs between spatial and temporal resolution - MODIS measures wide swathes of land with each sweep, and has relatively high temporal resolution. Landsat has improved spatial resolution but a revisit rate of 16 days, and NAIP is aggregated either annually or bi-annually. Over the past decade, satellite technology has improved and there is more diversity in mission sets. Cube satellites are small, shoe-box sized satellites that can provide both high-resolution imagery and, when mosaiced together, provide high temporal resolution as well. The tradeoff is that these satellites do not have the same array of sophisticated sensors that larger satellites are equipped with. Other satellites, such as those run by the intelligence community and private satellite companies, are designed for rapid revisit times of certain cities or political areas while not scanning the rest of the world. \n",
    "\n",
    "Temporal resolution is important to understand and consider for your use case - there are tradeoffs to be made either way.\n",
    "\n",
    "Resolution of a few popular platforms:\n",
    "\n",
    "1. Landsat:    16 days\n",
    "2. MODIS:      Several satellites, temporal resolution varies by product (4 days to annual products)\n",
    "3. Sentinel:   5 days at equator\n",
    "4. NAIP:       Annual\n",
    "5. Planet:     Daily"
   ]
  },
  {
   "cell_type": "markdown",
   "metadata": {
    "cell_id": "00033-f14b658d-0e7f-4722-8ffb-6a1c3f1af7b1",
    "deepnote_cell_height": 374,
    "deepnote_cell_type": "markdown"
   },
   "source": [
    "## Spectral Resolution\n",
    "\n",
    "Spectral resolution refers to the number and width of spectral bands in which the sensor takes measurements. You can think of the width of spectral bands as the wavelength interval on the electromagnetic spectrum for each band. A sensor that measures radiance in multiple bands (e.g., collects a value for red, green, blue and near infrared) is called a *multispectral* sensor (generally 3-10 bands), while a sensor with many bands (possibly hundreds) is called a *hyperspectral* sensor (these are not hard and fast definitions). For example, compare the [multi-spectral OLI](http://landsat.gsfc.nasa.gov/?p=5779) aboard Landsat 8 to [Hyperion](https://eo1.usgs.gov/sensors/hyperioncoverage), a hyperspectral sensor that collects 220 unique spectral channels aboard the EO-1 satellite.\n",
    "\n",
    "You will have to read through the documentation for each image collection to understand the spectral response of the bands. "
   ]
  },
  {
   "cell_type": "markdown",
   "metadata": {
    "cell_id": "00035-172a6cc5-4785-4368-b45b-b31f7ffb76bd",
    "deepnote_cell_height": 354,
    "deepnote_cell_type": "markdown"
   },
   "source": [
    "![Specctral Ranges per Band](https://github.com/ghidora77/03_GEE_Labs_DSPG/blob/main/im/im_01_10.png?raw=true)\n",
    "\n",
    "**Important note**: not all bands contain radiometric data. Some are quality control data, while others include information about the zenith or cloud coverage. You can use these other bands to either mask out low-quality pixels or conduct additional calculations. It is a good idea to read through the documentation of each dataset you will be working with to get a good understanding of the band structure."
   ]
  },
  {
   "cell_type": "markdown",
   "metadata": {
    "cell_id": "00045-4443f995-e283-4123-8e32-db97bbe1d41a",
    "deepnote_cell_height": 464,
    "deepnote_cell_type": "markdown"
   },
   "source": [
    "## Radiometric Resolution\n",
    "\n",
    "Radiometric resolution refers to the value, or 'digital number' that the sensor records: _coarse_ radiometric resolution would record a scene with only a narrow range of values, whereas _fine_ radiometric resolution would record the same scene using a wide range of values. The _precision_ of the sensing, or the level of _quantization_ is another way to refer to radiometric resolution. 8 bit values (0-255) is the standard in many image processing tools. \n",
    "\n",
    "![Radiometric Resolution](https://github.com/ghidora77/03_GEE_Labs_DSPG/blob/main/im/im_01_12.jpeg?raw=true)\n",
    "\n",
    "Radiometric resolution is determined from the minimum radiance to which the detector is sensitive (L<sub>min</sub>), the maximum radiance at which the sensor saturates (L<sub>max</sub>), and the number of bits used to store the DNs (Q): \n",
    "\n",
    "\n",
    "$$  \\text{Radiometric resolution} = \\frac{(L_{max} - L_{min})}{2^Q} $$\n",
    "\n",
    "It might be possible to dig around in the metadata to find values for L<sub>min</sub> and L<sub>max</sub>, but computing radiometric resolution is generally not necessary unless you're studying phenomena that are distinguished by very subtle changes in radiance. One thing to keep in mind is that while sensors have developed and become more sensitive / accurate, capable of recording collecting data in upwards of 16 bits, that may not necessarily be beneficial for your work. Computation and storage costs grow, and normalizing the data to 8-bit values to work with tools such as OpenCV defeats the purpose of this sensitive colllection rate. There are use cases where high bit rate collection makes sense (e.g., looking for a very narrow range in a custom spectral range to identify mineral deposits), but ensure that you understand where and why higher radiometric resolution is necessary. "
   ]
  },
  {
   "cell_type": "markdown",
   "metadata": {
    "cell_id": "00046-4ef74910-0c19-4ace-8eac-2415116db674",
    "deepnote_cell_height": 265,
    "deepnote_cell_type": "markdown"
   },
   "source": [
    "### Digital Image Visualization and Stretching\n",
    "\n",
    "You've learned about how an image stores pixel data in each band as digital numbers (DNs) and how the pixels are organized spatially. When you add an image to the map, Earth Engine handles the spatial display for you by recognizing the projection and putting all the pixels in the right place. However, you must specify how to stretch the DNs to fit the standard 8-bit display image  that GEE uses ( `min` and `max` parameters). Specifying `min` and `max` applies (where DN' is the displayed value):\n",
    "\n",
    "   $$ DN' =   \\frac{ 255 (DN - min)}{(max - min)} $$\n",
    "\n",
    "For instance, if you are working with NAIP imagery, you can set the min radiometric resolution to 0 and the max to 255 to model 8-bit radiometric resolution. "
   ]
  },
  {
   "cell_type": "markdown",
   "metadata": {
    "cell_id": "00048-62b02731-a8b6-4973-a963-5aea7686e734",
    "deepnote_cell_height": 96,
    "deepnote_cell_type": "markdown"
   },
   "source": [
    "By contrast, the Planet MultiSpectral SkySat imagery uses 16 bit collection, so you have to adjust the min and max values.  If your image is not displaying correctly (such as a black screen) check the documentation for your data and adjust your min and max values. "
   ]
  },
  {
   "cell_type": "code",
   "execution_count": 8,
   "metadata": {},
   "outputs": [
    {
     "data": {
      "application/vnd.jupyter.widget-view+json": {
       "model_id": "44ba40e5369a430cb121fab18b6ce65c",
       "version_major": 2,
       "version_minor": 0
      },
      "text/plain": [
       "Map(center=[41.66, -70.9], controls=(WidgetControl(options=['position', 'transparent_bg'], widget=HBox(childre…"
      ]
     },
     "metadata": {},
     "output_type": "display_data"
    }
   ],
   "source": [
    "lat = 41.66; lon = -70.9; \n",
    "zoom = 14\n",
    "image_collection_name = 'SKYSAT/GEN-A/PUBLIC/ORTHO/MULTISPECTRAL'\n",
    "date_start = '2019-01-01'\n",
    "date_end = '2019-12-31'\n",
    "name = 'NAIP'\n",
    "point = ee.Geometry.Point([lon, lat])\n",
    "\n",
    "image = (\n",
    "    ee.ImageCollection(image_collection_name)\n",
    "         .median()\n",
    ")\n",
    "\n",
    "bands = ['N', 'G', 'B']\n",
    "\n",
    "vizParams = {\n",
    "    'bands': bands, \n",
    "    'min': 200, # Change to 200\n",
    "    'max': 6000 # 6000\n",
    "}\n",
    "\n",
    "map6 = build_map(lat, lon, zoom, vizParams, image, name)\n",
    "map6"
   ]
  }
 ],
 "metadata": {
  "interpreter": {
   "hash": "ec9e24bde1833ef0ef93e4cf9cecf27c680e00c5d9cebee87bbc6a68c9a6acfb"
  },
  "kernelspec": {
   "display_name": "Python 3.9.13 ('geospatial')",
   "language": "python",
   "name": "python3"
  },
  "language_info": {
   "codemirror_mode": {
    "name": "ipython",
    "version": 3
   },
   "file_extension": ".py",
   "mimetype": "text/x-python",
   "name": "python",
   "nbconvert_exporter": "python",
   "pygments_lexer": "ipython3",
   "version": "3.9.13"
  },
  "orig_nbformat": 4
 },
 "nbformat": 4,
 "nbformat_minor": 2
}
