{
 "cells": [
  {
   "cell_type": "markdown",
   "id": "9e1774b4",
   "metadata": {
    "cell_id": "e20ac7c053cd43afb418987b94e6eb94",
    "deepnote_cell_height": 726,
    "deepnote_cell_type": "markdown",
    "tags": []
   },
   "source": [
    "# Getting Set Up\n",
    "\n",
    "## Setting up an Account\n",
    "\n",
    "Whether you use the JavaScript or Python API, you will have to sign-up for a Google Earth Engine account [here](https://signup.earthengine.google.com). Registration is free and straightforward, but it takes approximately 24 hours to be approved to use the code editor. \n",
    "\n",
    " * Note: using a personal email address is currently an easier process than using your .edu account.\n",
    "\n",
    "## Getting Started\n",
    "\n",
    "Once the account is approved, you can access Google Earth Engine. \n",
    "\n",
    "#### JavaScript\n",
    "With JavaScript, you can get started immediately - as long as you are logged into Google with the account you created your account with, you can access the [code editor](https://code.earthengine.google.com) immediately and start running scripts.\n",
    "\n",
    "#### Python\n",
    "Python takes a little more effort to set up - you have to:\n",
    "\n",
    "1. Install the Earth Engine library (one-time per environment)\n",
    "2. Authenticate your Earth Engine Account (one-time per environment)\n",
    "3. Initiate the API (Every time you run a script)\n",
    "\n",
    "In addition, we will be using the [`geemap`](https://geemap.org) package in conjunction with Earth Engine, install instructions are also included."
   ]
  },
  {
   "cell_type": "markdown",
   "id": "aeb2622d",
   "metadata": {},
   "source": [
    "##### Install Earth Engine\n",
    "Our class is set up in Google Colab, which already has the Earth Engine library installed. If you are using your own, preferred system, install with either `pip` or `conda` (take out the `#` in front of the command to run in a Jupyter Notebook)."
   ]
  },
  {
   "cell_type": "code",
   "execution_count": 1,
   "id": "a021760d",
   "metadata": {
    "cell_id": "b2e252ed4a4b4cc6a97d4466f9119b1a",
    "deepnote_cell_height": 755,
    "deepnote_cell_type": "code",
    "deepnote_to_be_reexecuted": false,
    "execution_millis": 46505,
    "execution_start": 1653692261402,
    "source_hash": "623fe282",
    "tags": []
   },
   "outputs": [],
   "source": [
    "# Install using `pip`\n",
    "\n",
    "!pip install earthengine-api --upgrade\n",
    "!pip install geemap"
   ]
  },
  {
   "cell_type": "code",
   "execution_count": 2,
   "id": "47d9dec6",
   "metadata": {
    "cell_id": "bdd0faa7b4bf4f51998b2feb838d4979",
    "deepnote_cell_height": 135,
    "deepnote_cell_type": "code",
    "deepnote_to_be_reexecuted": false,
    "execution_millis": 1,
    "execution_start": 1653662174611,
    "source_hash": "b956c431",
    "tags": []
   },
   "outputs": [],
   "source": [
    "# Install using Conda\n",
    "# Ensure you activate a new conda environment\n",
    "\n",
    "# !conda install -c conda-forge earthengine-api\n",
    "# !conda install geemap -c conda-forge"
   ]
  },
  {
   "cell_type": "markdown",
   "id": "481e7766",
   "metadata": {},
   "source": [
    "#### Other Environments\n",
    "There are some downsides of Google Colab - to access the terminal, you have to upgrade to the Pro version. Additionally, as a Google product it is tied in with Google Drive/Google Cloud, which might be a hindrance if your data is stored in another location. The Python development ecosystem is vast, with many options. If you will be working with Python in the long-term, it would be worthwhile to learn how to use tools such as Anaconda, Visual Studio Code, Atom, Sublime, Git, Jupyter Labs, DeepNote, Spyder, etc. This falls outside of the scope of this course, but if you'd like to learn more, the site [Real Python](https://realpython.com/learning-paths/perfect-your-python-development-setup/) would be a good starting point. "
   ]
  },
  {
   "cell_type": "markdown",
   "id": "c3a13128",
   "metadata": {
    "cell_id": "1231868f54754518aacde0e9e98c8a4e",
    "deepnote_cell_height": 132,
    "deepnote_cell_type": "markdown",
    "tags": []
   },
   "source": [
    "##### Authenticate Earth Engine\n",
    "Once the earth engine library is installed, you will need to authenticate for your environment environment one time. Import the Earth Engine library and then follow the instructions - you will be redirected to another page where you will receive an token, which you then enter into the prompt. Once this is complete, this token is stored in your environment. "
   ]
  },
  {
   "cell_type": "code",
   "execution_count": 3,
   "id": "85d10a62",
   "metadata": {
    "cell_id": "11d084e386cc4ad59759513a23eca5ed",
    "deepnote_cell_height": 99,
    "deepnote_cell_type": "code",
    "deepnote_output_heights": [
     190
    ],
    "deepnote_to_be_reexecuted": false,
    "execution_millis": 63418,
    "execution_start": 1654101605963,
    "source_hash": "3f44eac8",
    "tags": []
   },
   "outputs": [],
   "source": [
    "import ee\n",
    "ee.Authenticate()"
   ]
  },
  {
   "cell_type": "markdown",
   "id": "cc96536b",
   "metadata": {
    "cell_id": "ad5580a18b104c649b2996307fe866cf",
    "deepnote_cell_height": 110,
    "deepnote_cell_type": "markdown",
    "tags": []
   },
   "source": [
    "##### Initiate Earth Engine\n",
    "Once it is installed, you will have to initiate a session with the API every time you run a script. In the import section of your code, include the following to start using Earth Engine "
   ]
  },
  {
   "cell_type": "code",
   "execution_count": 4,
   "id": "d79a6fe6",
   "metadata": {
    "cell_id": "be6cb4c3a6e84195853f458b1afe79f4",
    "deepnote_cell_height": 117,
    "deepnote_cell_type": "code",
    "deepnote_to_be_reexecuted": false,
    "execution_millis": 5781,
    "execution_start": 1654101586415,
    "source_hash": "5e4bb9d1",
    "tags": []
   },
   "outputs": [],
   "source": [
    "# Initialize the Earth Engine module.\n",
    "import ee, geemap\n",
    "ee.Initialize()"
   ]
  }
 ],
 "metadata": {
  "deepnote": {},
  "deepnote_execution_queue": [],
  "deepnote_notebook_id": "bb2a7a95-f616-4bb7-abcf-445fab159d70",
  "interpreter": {
   "hash": "aa58bdc36bdf9e14843869e4ec1a78ace5f1405f58d2b9ff1d28f6db8d046567"
  },
  "kernelspec": {
   "display_name": "Python 3.9.13 ('geo')",
   "language": "python",
   "name": "python3"
  },
  "language_info": {
   "codemirror_mode": {
    "name": "ipython",
    "version": 3
   },
   "file_extension": ".py",
   "mimetype": "text/x-python",
   "name": "python",
   "nbconvert_exporter": "python",
   "pygments_lexer": "ipython3",
   "version": "3.9.13"
  }
 },
 "nbformat": 4,
 "nbformat_minor": 5
}
