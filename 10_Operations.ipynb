{
 "cells": [
  {
   "cell_type": "code",
   "execution_count": 4,
   "metadata": {},
   "outputs": [],
   "source": [
    "#!pip install geemap\n",
    "\n",
    "import ee, geemap, pprint, folium\n",
    "import geopandas as gpd\n",
    "#ee.Authenticate()\n",
    "\n",
    "def build_map(lat, lon, zoom, vizParams, image, name):\n",
    "    map = geemap.Map(center = [lat, lon], zoom = zoom)\n",
    "    map.addLayer(image, vizParams, name)\n",
    "    return map\n",
    "def add_ee_layer(self, ee_image_object, vis_params, name):\n",
    "  map_id_dict = ee.Image(ee_image_object).getMapId(vis_params)\n",
    "  folium.raster_layers.TileLayer(\n",
    "      tiles=map_id_dict['tile_fetcher'].url_format,\n",
    "      attr='Map Data &copy; <a href=\"https://earthengine.google.com/\">Google Earth Engine</a>',\n",
    "      name=name,\n",
    "      overlay=True,\n",
    "      control=True\n",
    "  ).add_to(self)\n",
    "\n",
    "# Initialize the Earth Engine module.\n",
    "ee.Initialize()"
   ]
  },
  {
   "cell_type": "markdown",
   "metadata": {},
   "source": [
    "# Operations within GEE\n",
    "\n",
    "Now that we have learned to reference raster objects in GEE and bring in vector objects (whether via geopandas or directly from a shapefile), we can start obtaining more data. \n",
    "\n",
    "## Part 1: Clip Raster to Vector\n",
    "\n",
    "For demonstration purposes we will use the geopandas data to get started. To begin, we will select a country in central america, where the countries are relatively small. \n",
    "\n"
   ]
  },
  {
   "cell_type": "code",
   "execution_count": 18,
   "metadata": {},
   "outputs": [],
   "source": [
    "# Country boundaries within geopandas \n",
    "world_filepath = gpd.datasets.get_path('naturalearth_lowres')\n",
    "world = gpd.read_file(world_filepath)\n",
    "df_single = world.loc[world.continent == 'Costa Rica']\n",
    "df_single.plot()"
   ]
  },
  {
   "cell_type": "code",
   "execution_count": 33,
   "metadata": {},
   "outputs": [
    {
     "name": "stderr",
     "output_type": "stream",
     "text": [
      "c:\\Users\\ozzyc\\anaconda3\\envs\\geo\\lib\\site-packages\\geopandas\\io\\file.py:362: FutureWarning: pandas.Int64Index is deprecated and will be removed from pandas in a future version. Use pandas.Index with the appropriate dtype instead.\n",
      "  pd.Int64Index,\n"
     ]
    }
   ],
   "source": [
    "# Convert to geemap object\n",
    "# Create a GEE Feature\n",
    "roi = geemap.geopandas_to_ee(df_single)"
   ]
  },
  {
   "cell_type": "code",
   "execution_count": 34,
   "metadata": {},
   "outputs": [
    {
     "data": {
      "application/vnd.jupyter.widget-view+json": {
       "model_id": "72ad18a5e27546eaa25f4b2ff14eacf9",
       "version_major": 2,
       "version_minor": 0
      },
      "text/plain": [
       "Map(center=[20, 0], controls=(WidgetControl(options=['position', 'transparent_bg'], widget=HBox(children=(Togg…"
      ]
     },
     "metadata": {},
     "output_type": "display_data"
    }
   ],
   "source": [
    "Map = geemap.Map()\n",
    "Map.addLayer(roi, {}, \"geopandas to ee example\")\n",
    "Map"
   ]
  },
  {
   "cell_type": "code",
   "execution_count": 44,
   "metadata": {},
   "outputs": [
    {
     "data": {
      "application/vnd.jupyter.widget-view+json": {
       "model_id": "b20ae4aca9e8431680f8d5cf357edfed",
       "version_major": 2,
       "version_minor": 0
      },
      "text/plain": [
       "Map(center=[8.9, -82.32], controls=(WidgetControl(options=['position', 'transparent_bg'], widget=HBox(children…"
      ]
     },
     "metadata": {},
     "output_type": "display_data"
    }
   ],
   "source": [
    "lat = 8.9; lon = -82.32\n",
    "zoom = 8\n",
    "image_collection_name = \"LANDSAT/LC08/C01/T1_8DAY_NDVI\"\n",
    "date_start = '2017-01-01'\n",
    "date_end = '2017-12-31'\n",
    "name = 'Landsat'\n",
    "\n",
    "image = (\n",
    "    ee.ImageCollection(image_collection_name).mosaic()\n",
    ")\n",
    "# Note - we are building a mosaic of the data \n",
    "# and then clipping \n",
    "image = image.clip(roi)\n",
    "\n",
    "palette = ['FFFFFF', 'CE7E45', 'DF923D', 'F1B555', 'FCD163', '99B718', '74A901',\n",
    "    '66A000', '529400', '3E8601', '207401', '056201', '004C00', '023B01',\n",
    "    '012E01', '011D01', '011301']\n",
    "\n",
    "vizParams = {\n",
    "    'min': 0, \n",
    "    'max': 0.1,\n",
    "    'palette': palette, \n",
    "    'opacity': 0.6\n",
    "}\n",
    "\n",
    "map = build_map(lat, lon, zoom, vizParams, image, name)\n",
    "map"
   ]
  },
  {
   "cell_type": "code",
   "execution_count": 45,
   "metadata": {},
   "outputs": [
    {
     "name": "stdout",
     "output_type": "stream",
     "text": [
      "Computing statistics ...\n",
      "Generating URL ...\n",
      "Downloading data from https://earthengine.googleapis.com/v1alpha/projects/earthengine-legacy/tables/d0f8ada86123e6f8549196eadc01bca9-edb1ac950343cdf2743d40eed96308c0:getFeatures\n",
      "Please wait ...\n",
      "Data downloaded to c:\\Users\\ozzyc\\OneDrive\\03_Projects\\03_GEE_Labs\\03_GEE_DSPG\\stats.csv\n"
     ]
    }
   ],
   "source": [
    "# Now we need to conduct zonal statistics \n",
    "output = 'stats.csv'\n",
    "geemap.zonal_statistics(image, roi, output, statistics_type='MEAN', scale=30)"
   ]
  },
  {
   "cell_type": "code",
   "execution_count": null,
   "metadata": {},
   "outputs": [],
   "source": []
  }
 ],
 "metadata": {
  "interpreter": {
   "hash": "aa58bdc36bdf9e14843869e4ec1a78ace5f1405f58d2b9ff1d28f6db8d046567"
  },
  "kernelspec": {
   "display_name": "Python 3.9.13 ('geo')",
   "language": "python",
   "name": "python3"
  },
  "language_info": {
   "codemirror_mode": {
    "name": "ipython",
    "version": 3
   },
   "file_extension": ".py",
   "mimetype": "text/x-python",
   "name": "python",
   "nbconvert_exporter": "python",
   "pygments_lexer": "ipython3",
   "version": "3.9.13"
  },
  "orig_nbformat": 4
 },
 "nbformat": 4,
 "nbformat_minor": 2
}
