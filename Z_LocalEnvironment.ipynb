{
 "cells": [
  {
   "cell_type": "markdown",
   "metadata": {},
   "source": [
    "# Resources for local environment\n",
    "Unfortunately, building your python environment can in some cases be difficult to manage at the beginning. Many packages are reliant on a string of other functions, libraries and tools that can sometimes conflict with each other. Additionally, there can be issues between Windows and Linux/Mac. \n",
    "\n",
    "Most of this course was developed on a Mac using Visual Studio Code as the text editor and `conda` as the package manager, but you are free to use your own system. \n",
    "\n",
    "1. [Getting Started with Conda](https://docs.conda.io/projects/conda/en/latest/user-guide/getting-started.html)\n",
    "2. [Python in Visual Studio Code](https://code.visualstudio.com/docs/languages/python)\n",
    "3. Once you have a code editor that you want to use, this consolidation [package](https://geospatial.gishub.org/installation/) is very helpful when working with geospatial data\n"
   ]
  }
 ],
 "metadata": {
  "language_info": {
   "name": "python"
  },
  "orig_nbformat": 4
 },
 "nbformat": 4,
 "nbformat_minor": 2
}
